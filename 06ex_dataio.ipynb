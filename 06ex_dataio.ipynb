{
 "cells": [
  {
   "cell_type": "markdown",
   "metadata": {},
   "source": [
    "1\\. **Text files**\n",
    "\n",
    "Perform the following operations on plain `txt` files:\n",
    "\n",
    "+ create a list of integrer numbers and then save it to a text file named `data_int.txt`. Run the `cat` command to print the content of the file.\n",
    "+ create a matrix of 5x5 floats and then save it to a text file named `data_float.txt`. Use the `cat` command to print the content of the file.\n",
    "+ load the `txt` file of the previous point and convert it to a `csv` file by hand."
   ]
  },
  {
   "cell_type": "code",
   "execution_count": 21,
   "metadata": {},
   "outputs": [],
   "source": [
    "import numpy as np\n",
    "import numpy.random as npr\n",
    "import csv\n",
    "\n",
    "\n",
    "num = np.arange(10)\n",
    "filen = open('data_int.txt', 'w')\n",
    "filen.write(str(num))\n",
    "filen.close()\n",
    "\n",
    "\n",
    "flo = npr.rand(5,5)*100\n",
    "file = open('data_float.txt', 'w')\n",
    "file.write(str(flo))\n",
    "file.close()\n",
    "\n",
    "\n",
    "file = open('data_float.txt')\n",
    "lines = file.readlines()\n",
    "\n",
    "header = lines[0].strip().split(', ')\n",
    "data = [line.strip().split(', ') for line in lines[1:]]\n",
    "\n",
    "csv_file =  open('output.csv', 'w', newline='')\n",
    "csv_writer = csv.writer(csv_file)\n",
    "csv_writer.writerow(header)\n",
    "csv_writer.writerows(data)\n"
   ]
  },
  {
   "cell_type": "markdown",
   "metadata": {},
   "source": [
    "2\\. **JSON files**\n",
    "\n",
    "Load the file `user_data.json`, which can be found at:\n",
    "\n",
    "- https://www.dropbox.com/s/sz5klcdpckc39hd/user_data.json\n",
    "\n",
    "and filter the data by the \"CreditCardType\" when it equals to \"American Express\". Than save the data to a new CSV file."
   ]
  },
  {
   "cell_type": "code",
   "execution_count": 48,
   "metadata": {},
   "outputs": [],
   "source": [
    "import json\n",
    "import pandas as pd\n",
    "\n",
    "data = json.load(open('data/user_data.json'))\n",
    "\n",
    "data = pd.DataFrame(data)\n",
    "mask= data['CreditCardType'] == 'American Express'\n",
    "data = data[mask]\n",
    "header = data[0:]\n",
    "data = data[1::]\n",
    "\n",
    "data.to_csv(r'data/American Express.csv', index = False)"
   ]
  },
  {
   "cell_type": "markdown",
   "metadata": {},
   "source": [
    "3\\. **CSV files with Pandas**\n",
    "\n",
    "Load the file from this url:\n",
    "\n",
    "- https://www.dropbox.com/s/kgshemfgk22iy79/mushrooms_categorized.csv\n",
    "\n",
    "with Pandas. \n",
    "\n",
    "+ explore and print the DataFrame\n",
    "+ calculate, using `groupby()`, the average value of each feature, separately for each class\n",
    "+ save the file in a JSON format."
   ]
  },
  {
   "cell_type": "code",
   "execution_count": 78,
   "metadata": {},
   "outputs": [],
   "source": [
    "file = \"data/mushrooms_categorized.csv\"\n",
    "data =pd.read_csv(file)\n",
    "classe0 = data.groupby('class').mean()\n",
    "\n",
    "classe0.to_json(r'mush.jsn',orient= 'index')\n"
   ]
  },
  {
   "cell_type": "code",
   "execution_count": null,
   "metadata": {},
   "outputs": [],
   "source": []
  },
  {
   "cell_type": "code",
   "execution_count": 3,
   "metadata": {},
   "outputs": [
    {
     "name": "stdout",
     "output_type": "stream",
     "text": [
      "Type: <class 'pandas.core.frame.DataFrame'>\n"
     ]
    }
   ],
   "source": [
    "file = \"data/mushrooms_categorized.csv\"\n",
    "data =pd.read_csv(file)\n",
    "\n",
    "classe0 = data.groupby('class').mean()\n",
    "\n",
    "\n",
    "js = classe0.to_json(orient=\"index\")\n",
    "\n",
    "save_file = open(\"data/mushrooms_categorized.json\", \"w\") \n",
    "\n",
    "json.dump(js, save_file, indent = 6)  \n",
    "save_file.close()  \n"
   ]
  },
  {
   "cell_type": "markdown",
   "metadata": {},
   "source": [
    "4\\. **Reading a database**\n",
    "\n",
    "Get the database `sakila.db` from the lecture `06_dataio.ipynb`, and import the table `actors` as a Pandas dataframe. Using the dataframe, count how many actors have a first name that begins with `A`.\n",
    "\n",
    "*Hint:* use the Series `.str` method to apply the Python string methods to the elements of a Series, see [documentation](https://pandas.pydata.org/docs/reference/api/pandas.Series.str.html)."
   ]
  },
  {
   "cell_type": "code",
   "execution_count": 94,
   "metadata": {},
   "outputs": [
    {
     "name": "stdout",
     "output_type": "stream",
     "text": [
      "13\n"
     ]
    }
   ],
   "source": [
    "import sqlite3 as sql\n",
    "\n",
    "data = sql.connect('data/sakila.db')\n",
    "query = 'SELECT*FROM actor;'\n",
    "data = pd.read_sql_query(query, data)\n",
    "\n",
    "\n",
    "count = 0\n",
    "for i in range(data.shape[0]):\n",
    "    if data['first_name'][i].startswith('A'):\n",
    "        count+=1"
   ]
  },
  {
   "cell_type": "code",
   "execution_count": null,
   "metadata": {},
   "outputs": [],
   "source": []
  },
  {
   "cell_type": "code",
   "execution_count": 84,
   "metadata": {},
   "outputs": [
    {
     "name": "stdout",
     "output_type": "stream",
     "text": [
      "The number of actors with a first name starting with 'A' is: 13\n"
     ]
    }
   ],
   "source": [
    "import sqlite3\n",
    "\n",
    "conn = sqlite3.connect('data/sakila.db')\n",
    "cur = conn.cursor()\n",
    "\n",
    "query = \"SELECT * FROM actor;\"\n",
    "actors_df = pd.read_sql_query(query, conn)\n",
    "\n",
    "\n",
    "conn.close()\n",
    "\n",
    "\n",
    "count_a_actors = actors_df[actors_df['first_name'].str.startswith('A', na=False)].shape[0]\n",
    "\n",
    "print(f\"The number of actors with a first name starting with 'A' is: {count_a_actors}\")\n"
   ]
  },
  {
   "cell_type": "markdown",
   "metadata": {},
   "source": [
    "5\\. **Reading the credit card numbers**\n",
    "\n",
    "Get the binary file named `credit_card.dat` from this address:\n",
    "\n",
    "- https://www.dropbox.com/s/8m0syw2tkul3dap/credit_card.dat\n",
    "\n",
    "and convert the data into the real credit card number, knowing that:\n",
    "- each line corresponds to a credit card number, which consists of 16 characters (which are numbers in the 0-9 range) divided in 4 blocks, with a whitespace between each block\n",
    "- each character is written using a 6 bit binary representation (including the whitespace)\n",
    "- the final 4 bits of each line are a padding used to determine the end of the line, and can be ignored\n",
    "\n",
    "*Hint*: convert the binary numbers to the decimal representation first, and then use the `chr()` function to convert the latter to a char"
   ]
  },
  {
   "cell_type": "code",
   "execution_count": 149,
   "metadata": {},
   "outputs": [
    {
     "name": "stdout",
     "output_type": "stream",
     "text": [
      "['7648 5673 3775 2271', '3257 8247 3354 2266', '2722 0001 4011 6652', '0661 3063 3742 3150', '0432 1608 1462 4742', '5827 2027 8785 7303', '5774 8528 2087 1117', '8140 1210 6352 2845', '5764 1133 7301 7100', '6456 1737 4126 6726', '1228 8631 7382 0000', '7051 0160 5374 3166', '0618 3587 1630 6376', '1545 5454 7444 5636', '6735 3116 3202 6834', '7287 5011 1547 8413', '7033 2607 3328 4200', '2568 5244 1874 5024', '1684 2253 7570 7118', '0672 2576 0575 6631', '6332 8353 8787 1340', '1813 3361 1175 4211', '2477 6450 8840 2368', '5512 3505 2563 1326', '3083 7882 0621 0025', '4521 5148 8045 0334', '7563 3654 8713 5787', '8324 2664 0476 5561', '0565 2504 7168 3510', '5107 5507 1767 0738', '2462 1821 2448 1443', '2788 0638 6861 6554', '5851 5873 5474 0547', '0670 1004 4013 2655', '5874 5506 3048 0806', '2805 5401 8462 1260', '5083 8406 6310 1862', '1076 1445 3013 2266', '8440 4804 4844 5277', '4758 6141 0686 1387', '7586 0675 0315 2568', '2544 1258 7432 5165', '3474 5023 4434 5626', '1410 0270 0434 5086', '7315 4446 1104 4215', '0224 7742 8300 0266', '0170 2700 3145 0640', '2006 2437 8054 1600', '8142 4055 1776 0026', '3026 7380 1241 1084', '']\n"
     ]
    }
   ],
   "source": [
    "file = open('credit_card.dat','r')\n",
    "\n",
    "\n",
    "data=file.readlines()\n",
    "carta = []\n",
    "for line in data:\n",
    "    if len(line) == 4:\n",
    "        break    \n",
    "    line = line[:-4]\n",
    "    blocks =[line[i:i+6] for i in range(0,len(line)-1,6)]\n",
    "    decimals = [int(block,2) for block in blocks]\n",
    "    characters = [(chr(decimal)) for decimal in decimals]\n",
    "    result = ''.join(characters)\n",
    "    carta.append(result)    \n",
    " \n",
    "    \n",
    " \n",
    "print(carta)\n"
   ]
  },
  {
   "cell_type": "code",
   "execution_count": null,
   "metadata": {},
   "outputs": [],
   "source": []
  },
  {
   "cell_type": "code",
   "execution_count": null,
   "metadata": {},
   "outputs": [],
   "source": []
  },
  {
   "cell_type": "code",
   "execution_count": null,
   "metadata": {},
   "outputs": [],
   "source": []
  },
  {
   "cell_type": "code",
   "execution_count": 107,
   "metadata": {},
   "outputs": [],
   "source": [
    "with open('data/credit_card.dat', 'rb') as file:\n",
    "    bin_data = file.read()\n",
    "\n",
    "# Dividi il file binario in linee\n",
    "lines = bin_data.split(b'\\n')\n",
    "carta = []\n",
    "for line in lines:\n",
    "    if len(line) == 4:\n",
    "        break\n",
    "    line = line[:-4] #tolgo gli ultimi 4 caratteri \n",
    "    blocks = [line[i:i+6] for i in range(0, len(line), 6)] #divido la stringa in blocchi\n",
    "    decimals = [int(block, 2) for block in blocks]\n",
    "    characters = [chr(decimal) for decimal in decimals]\n",
    "    result = ''.join(characters)\n",
    "    carta.append(result)    \n"
   ]
  },
  {
   "cell_type": "markdown",
   "metadata": {},
   "source": [
    "6\\. **Write data to a binary file**\n",
    "\n",
    "a) Start from the `data/data_000637.txt` file that we have used during the previous lectures, and convert it to a binary file according to the format defined below:"
   ]
  },
  {
   "cell_type": "code",
   "execution_count": 6,
   "metadata": {},
   "outputs": [],
   "source": [
    "#from IPython.display import Image\n",
    "#Image(\"images/data_format.png\")"
   ]
  },
  {
   "cell_type": "markdown",
   "metadata": {},
   "source": [
    "*Hints*:\n",
    "- Read the first 10 lines using Pandas\n",
    "- Iterate over the DataFrame rows\n",
    "- For every row, \"pack\" the values (features) into a single 64-bit word, according to the format specified above. Use bit-wise shifts and operators to do so.\n",
    "- Write each 64-bit word to a binary file. You can use `struct` in this way:\n",
    "```\n",
    "binary_file.write( struct.pack('<q', word) )\n",
    "```\n",
    "where `word` is the 64-bit word.\n",
    "- Close the file after completing the loop.\n",
    "\n",
    "b) Check that the binary file is correctly written by reading it with the code used in the lecture `06_dataio.ipynb`, and verify that the content of the `txt` and binary files is consistent.\n",
    "\n",
    "c) What is the difference of the size on disk between equivalent `txt` and binary files?"
   ]
  },
  {
   "cell_type": "code",
   "execution_count": 8,
   "metadata": {},
   "outputs": [
    {
     "name": "stdout",
     "output_type": "stream",
     "text": [
      "HEAD\tFPGA\tCHANNEL\tORBIT_CNT\tBX_CNT\tTDC_MEAS\n",
      "1\t0\t123\t3869200167\t2374\t6\n",
      "1\t0\t124\t3869200167\t2374\t6\n",
      "1\t0\t63\t3869200167\t2553\t25\n",
      "1\t0\t64\t3869200167\t2558\t30\n",
      "1\t0\t64\t3869200167\t2760\t8\n",
      "1\t0\t63\t3869200167\t2762\t10\n",
      "1\t0\t61\t3869200167\t2772\t20\n",
      "1\t0\t139\t3869200167\t2776\t24\n",
      "1\t0\t62\t3869200167\t2774\t22\n",
      "1\t0\t60\t3869200167\t2788\t4\n"
     ]
    }
   ],
   "source": [
    "import struct\n",
    "datatxt = pd.read_csv('data/data_000637.txt', nrows=10)\n",
    "newfile = \"data_000637_new.dat\"\n",
    "\n",
    "binary_file = open(newfile, 'wb')\n",
    "for i in range(len(datatxt)):\n",
    "    word = (datatxt.iloc[i, 0] & 0x3) << 62\n",
    "    word = word | ((datatxt.iloc[i, 1] & 0xF) << 58)\n",
    "    word = word | ((datatxt.iloc[i, 2] & 0x1FF) << 49)\n",
    "    word = word | ((datatxt.iloc[i, 3] & 0xFFFFFFFF) << 17)\n",
    "    word = word | ((datatxt.iloc[i, 4] & 0xFFF) << 5)\n",
    "    word = word | (datatxt.iloc[i, 4] & 0x1F)\n",
    "    binary_file.write( struct.pack('<q', word) )\n",
    "binary_file.close()\n",
    "\n",
    "\n",
    "# Reading back and print the data to check the correspondence\n",
    "# with the actual values stored in the txt file\n",
    "columns = ['HEAD', 'FPGA', 'CHANNEL', 'ORBIT_CNT', 'BX_CNT', 'TDC_MEAS']\n",
    "df = pd.DataFrame({}, columns=columns)\n",
    "with open(newfile, 'rb') as file:\n",
    "    file_content = file.read()\n",
    "    word_counter = 0\n",
    "    word_size = 8 # size of the word in bytes\n",
    "    for i in range(0, len(file_content), word_size):\n",
    "        word_counter += 1\n",
    "        if word_counter > 10: break\n",
    "        word = struct.unpack('<q', file_content[i : i + word_size])[0] # get an 8-byte word\n",
    "        head     = (word >> 62) & 0x3\n",
    "        fpga     = (word >> 58) & 0xF\n",
    "        tdc_chan = (word >> 49) & 0x1FF\n",
    "        orb_cnt  = (word >> 17) & 0xFFFFFFFF\n",
    "        bx       = (word >> 5 ) & 0xFFF\n",
    "        tdc_meas = (word >> 0 ) & 0x1F\n",
    "        if i == 0: print ('{0}\\t{1}\\t{2}\\t{3}\\t{4}\\t{5}'.format('HEAD', 'FPGA', 'CHANNEL', 'ORBIT_CNT', 'BX_CNT', 'TDC_MEAS'))\n",
    "        print('{0}\\t{1}\\t{2}\\t{3}\\t{4}\\t{5}'.format(head, fpga, tdc_chan, orb_cnt, bx, tdc_meas))\n",
    "        entry = {'HEAD' : head, 'FPGA' : fpga, 'CHANNEL' : tdc_chan, 'ORBIT_CNT' : orb_cnt, 'BX_CNT' : bx, 'TDC_MEAS' : tdc_meas}\n",
    "        #df = df.append(entry, ignore_index=True)\n",
    "        data[word_counter] = entry\n",
    "        \n",
    "#The txt file has in mean 26 byte per row, while the binary packed dat file has 8 byte per row. For each row\n",
    "# the txt file occupies 18 bytes more than the dat file."
   ]
  },
  {
   "cell_type": "code",
   "execution_count": null,
   "metadata": {},
   "outputs": [],
   "source": []
  },
  {
   "cell_type": "code",
   "execution_count": null,
   "metadata": {},
   "outputs": [],
   "source": []
  },
  {
   "cell_type": "code",
   "execution_count": null,
   "metadata": {},
   "outputs": [],
   "source": []
  }
 ],
 "metadata": {
  "kernelspec": {
   "display_name": "Python 3 (ipykernel)",
   "language": "python",
   "name": "python3"
  },
  "language_info": {
   "codemirror_mode": {
    "name": "ipython",
    "version": 3
   },
   "file_extension": ".py",
   "mimetype": "text/x-python",
   "name": "python",
   "nbconvert_exporter": "python",
   "pygments_lexer": "ipython3",
   "version": "3.11.5"
  }
 },
 "nbformat": 4,
 "nbformat_minor": 4
}
