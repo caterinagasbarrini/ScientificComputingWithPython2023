{
 "cells": [
  {
   "cell_type": "code",
   "execution_count": 74,
   "id": "84ba66fe",
   "metadata": {},
   "outputs": [
    {
     "ename": "TypeError",
     "evalue": "converti() takes 1 positional argument but 2 were given",
     "output_type": "error",
     "traceback": [
      "\u001b[1;31m---------------------------------------------------------------------------\u001b[0m",
      "\u001b[1;31mTypeError\u001b[0m                                 Traceback (most recent call last)",
      "Cell \u001b[1;32mIn[74], line 11\u001b[0m\n\u001b[0;32m      7\u001b[0m         numero \u001b[38;5;241m=\u001b[39m \u001b[38;5;28mbin\u001b[39m(numero)\n\u001b[0;32m      8\u001b[0m     \u001b[38;5;28;01mreturn\u001b[39;00m numero\n\u001b[1;32m---> 11\u001b[0m a \u001b[38;5;241m=\u001b[39m converti(\u001b[38;5;241m23\u001b[39m,\u001b[38;5;28mbin\u001b[39m)\n\u001b[0;32m     12\u001b[0m \u001b[38;5;28mprint\u001b[39m(a)\n",
      "\u001b[1;31mTypeError\u001b[0m: converti() takes 1 positional argument but 2 were given"
     ]
    }
   ],
   "source": [
    "def converti_numero(numero,type1):\n",
    "    if type1 == hex:\n",
    "        numero = hex(numero)\n",
    "    elif type1 == int:\n",
    "        numero = int(numero)\n",
    "    elif type1 == bin:\n",
    "        numero = bin(numero)\n",
    "    return numero\n",
    "        \n",
    "       \n",
    "a = converti(23,bin)\n",
    "print(a)"
   ]
  },
  {
   "cell_type": "code",
   "execution_count": 75,
   "id": "e8e2ec0d",
   "metadata": {},
   "outputs": [
    {
     "name": "stdout",
     "output_type": "stream",
     "text": [
      "-2.5\n"
     ]
    }
   ],
   "source": [
    "def converti(stringa):\n",
    "    \n",
    "    segno = int(stringa[0])\n",
    "    \n",
    "    esponente_bias = int(stringa[1:9],2)\n",
    "    \n",
    "    esponente_nonbias = esponente_bias - 127\n",
    "    \n",
    "    mantissa = stringa[10:]\n",
    "     \n",
    "    potenza = -1\n",
    "    mantissa_int = 0\n",
    "    \n",
    "    for i in mantissa:\n",
    "\n",
    "        mantissa_int += (int(i) * pow(2, potenza))\n",
    "        potenza -= 1      \n",
    "    \n",
    "    \n",
    "    mantissa_int = mantissa_int + 1\n",
    "\n",
    "    \n",
    "    numero = pow(-1, segno) * mantissa_int * pow(2, esponente_nonbias)\n",
    "    \n",
    "    return numero\n",
    "    \n",
    "  \n",
    "numero = converti('11000000000100000000000000000000')\n",
    "\n",
    "print(numero)\n",
    "\n"
   ]
  },
  {
   "cell_type": "code",
   "execution_count": 76,
   "id": "9a593fae",
   "metadata": {},
   "outputs": [
    {
     "name": "stdout",
     "output_type": "stream",
     "text": [
      "Il limite per l'underflow è : 5e-324\n",
      "Il limite per l'overflow: 8.98846567431158e+307\n"
     ]
    }
   ],
   "source": [
    "underflow = 1.0\n",
    "overflow= 1.0\n",
    "\n",
    "\n",
    "while underflow / 2 != 0.0:\n",
    "    underflow /= 2\n",
    "\n",
    "\n",
    "while overflow * 2 != float('inf'):\n",
    "    overflow *= 2\n",
    "\n",
    "print(f\"Il limite per l'underflow è : {underflow}\")\n",
    "print(f\"Il limite per l'overflow: {overflow}\")\n",
    "\n"
   ]
  },
  {
   "cell_type": "code",
   "execution_count": 77,
   "id": "4d11e474",
   "metadata": {},
   "outputs": [
    {
     "name": "stdout",
     "output_type": "stream",
     "text": [
      "La precisione del computer è di: 2.220446049250313e-16\n"
     ]
    }
   ],
   "source": [
    "precisione = 1.0\n",
    "delta = 1.0\n",
    "\n",
    "while (1.0 + delta) != 1.0:\n",
    "    machine_precision = delta\n",
    "    delta /= 2.0\n",
    "\n",
    "print(f\"La precisione del computer è di: {machine_precision}\")\n"
   ]
  },
  {
   "cell_type": "code",
   "execution_count": 78,
   "id": "e9637784",
   "metadata": {},
   "outputs": [
    {
     "name": "stdout",
     "output_type": "stream",
     "text": [
      "Standard Formula Test:\n",
      "Standard Formula - Root 1: -9.999894245993346e-07\n",
      "Standard Formula - Root 2: -999999.999999\n",
      "\n",
      "Accurate Formula Test:\n",
      "Accurate Formula - Root 1: -999999.999999\n",
      "Accurate Formula - Root 2: -1.000000000001e-06\n"
     ]
    }
   ],
   "source": [
    "import math\n",
    "\n",
    "# Function to compute solutions using the standard formula\n",
    "def quadratic_standard(a, b, c):\n",
    "    discriminant = b**2 - 4 * a * c\n",
    "    if discriminant < 0:\n",
    "        print(\"No real roots\")\n",
    "    else:\n",
    "        root1 = (-b + math.sqrt(discriminant)) / (2 * a)\n",
    "        root2 = (-b - math.sqrt(discriminant)) / (2 * a)\n",
    "        print(\"Standard Formula - Root 1:\", root1)\n",
    "        print(\"Standard Formula - Root 2:\", root2)\n",
    "\n",
    "# Function to compute solutions more accurately\n",
    "def quadratic_accurate(a, b, c):\n",
    "    if a == 0:\n",
    "        print(\"Coefficient 'a' must be non-zero for a quadratic equation.\")\n",
    "    else:\n",
    "        discriminant = b**2 - 4 * a * c\n",
    "        if discriminant < 0:\n",
    "            print(\"No real roots\")\n",
    "        else:\n",
    "            if b > 0:\n",
    "                root1 = (-b - math.sqrt(discriminant)) / (2 * a)\n",
    "                root2 = (2 * c) / (-b - math.sqrt(discriminant))\n",
    "            else:\n",
    "                root1 = (-b + math.sqrt(discriminant)) / (2 * a)\n",
    "                root2 = (2 * c) / (-b + math.sqrt(discriminant))\n",
    "            print(\"Accurate Formula - Root 1:\", root1)\n",
    "            print(\"Accurate Formula - Root 2:\", root2)\n",
    "\n",
    "# Test the standard formula with a = 1, b = -3, and c = 2\n",
    "print(\"Standard Formula Test:\")\n",
    "quadratic_standard(0.001, 1000, 0.001)\n",
    "\n",
    "# Test the accurate formula with a = 1, b = -3, and c = 2\n",
    "print(\"\\nAccurate Formula Test:\")\n",
    "quadratic_accurate(0.001, 1000, 0.001)\n"
   ]
  },
  {
   "cell_type": "code",
   "execution_count": 72,
   "id": "72f0fe2d",
   "metadata": {},
   "outputs": [
    {
     "ename": "IndentationError",
     "evalue": "expected an indented block after function definition on line 33 (1473608287.py, line 36)",
     "output_type": "error",
     "traceback": [
      "\u001b[1;36m  Cell \u001b[1;32mIn[72], line 36\u001b[1;36m\u001b[0m\n\u001b[1;33m    quadratic(0.001,1000,0.001)\u001b[0m\n\u001b[1;37m    ^\u001b[0m\n\u001b[1;31mIndentationError\u001b[0m\u001b[1;31m:\u001b[0m expected an indented block after function definition on line 33\n"
     ]
    }
   ],
   "source": [
    "import math as m\n",
    "\n",
    "def quadratic(a,b,c):\n",
    "    x1 = (-1 * b + math.sqrt(pow(b,2)- (4 * a * c)))/ (2 * a)\n",
    "          \n",
    "    x2 = (-1 * b - math.sqrt(pow(b,2)- (4 * a * c))) / (2 * a)\n",
    "    \n",
    "    print(\"Formula Standard - x1:\", x1)\n",
    "    print(\"Formula Standard - x2:\", x2)\n",
    "    \n",
    "    return x1,x2\n",
    "\n",
    "\n",
    "\n",
    "\n",
    "def quadratic2(a,b,c):\n",
    "    discriminante = b**2 - 4 * a * c\n",
    "    if discriminante < 0:\n",
    "        print(\"Non ci sono soluzioni reali\")\n",
    "    else:\n",
    "        if b > 0:\n",
    "            x1 = (-b - math.sqrt(discriminante)) / (2 * a)\n",
    "            x2 = (2 * c) / (-b - math.sqrt(discriminante))\n",
    "        else:\n",
    "            x1 = (-b + math.sqrt(discriminante)) / (2 * a)\n",
    "            x2 = (2 * c) / (-b + math.sqrt(discriminante))\n",
    "    print(\"Formula Accurata - x1:\", x1)\n",
    "    print(\"Formula Accurata - x2:\", x2)\n",
    "    \n",
    "    return x1,x2\n",
    "\n",
    "\n",
    "def quadratic_accurata(a,b,c):\n",
    "    discriminante = b**2 - 4 * a * c\n",
    "    if a == 0:\n",
    "        print(\"Il coefficiente 'a' non può essere ugulae a 0.\")\n",
    "    else:\n",
    "        if discriminante < 0:\n",
    "            print(\"Non ci sono soluzioni reali\")\n",
    "        else:\n",
    "            print (9)\n",
    "\n",
    "\n",
    "quadratic(0.001,1000,0.001)\n",
    "                                                                                              \n",
    "quadratic2(0.001,1000,0.001)\n",
    "                                            \n",
    "\n",
    "#The accurate formula essentially applies the same computation but rearranges the terms for improved numerical stability.\n",
    "#In some cases where the discriminant is very small compared to b, the accurate formula can provide more accurate results.   \n",
    "          "
   ]
  },
  {
   "cell_type": "code",
   "execution_count": 46,
   "id": "eca758d2",
   "metadata": {},
   "outputs": [
    {
     "name": "stdout",
     "output_type": "stream",
     "text": [
      "La derivata di a = 1.0 con h = 0.01: 1.010000000000001\n",
      "La derivata di a = 1.0 con h = 0.0001: 1.0000999999998899\n",
      "La derivata di a = 1.0 con h = 1e-06: 1.0000009999177333\n",
      "La derivata di a = 1.0 con h = 1e-08: 1.0000000039225287\n",
      "La derivata di a = 1.0 con h = 1e-10: 1.000000082840371\n",
      "La derivata di a = 1.0 con h = 1e-12: 1.0000889005833413\n",
      "La derivata di a = 1.0 con h = 1e-14: 0.9992007221626509\n"
     ]
    }
   ],
   "source": [
    "def derivat(f, a, h):\n",
    "    numerical_derivative = (f(a + h) - f(a)) / h\n",
    "    return numerical_derivative\n",
    "\n",
    "\n",
    "def f(x):\n",
    "    return x*(x-1)\n",
    "\n",
    "\n",
    "a = 1.0  \n",
    "h = pow(10,-2)\n",
    "h1 = pow(10,-4)\n",
    "h2 = pow(10,-6)\n",
    "h3 = pow(10,-8)\n",
    "h4 = pow(10,-10)\n",
    "h5 = pow(10,-12)\n",
    "h6 = pow(10,-14)\n",
    "\n",
    "derivata = derivat(f, a, h)\n",
    "derivata1 = derivat(f, a, h1)\n",
    "derivata2 = derivat(f, a, h2)\n",
    "derivata3 = derivat(f, a, h3)\n",
    "derivata4 = derivat(f, a, h4)\n",
    "derivata5 = derivat(f, a, h5)\n",
    "derivata6 = derivat(f, a, h6)\n",
    "\n",
    "\n",
    "\n",
    "\n",
    "print(f\"La derivata di a = {a} con h = {h}: {derivata}\")\n",
    "print(f\"La derivata di a = {a} con h = {h1}: {derivata1}\")\n",
    "print(f\"La derivata di a = {a} con h = {h2}: {derivata2}\")\n",
    "print(f\"La derivata di a = {a} con h = {h3}: {derivata3}\")\n",
    "print(f\"La derivata di a = {a} con h = {h4}: {derivata4}\")\n",
    "print(f\"La derivata di a = {a} con h = {h5}: {derivata5}\")\n",
    "print(f\"La derivata di a = {a} con h = {h6}: {derivata6}\")\n",
    "\n",
    "\n",
    "\n",
    "#The reason the analytical (1.00) and numerical(1.01) results won't agree perfectly is primarily due to the finite step size (ℎ) used in the numerical approximation. As \n",
    "#h gets smaller, the numerical result approaches the true derivative, but it won't be exact. Additionally, numerical precision and rounding errors can contribute to the differences between the two values.\n",
    "\n",
    "\n",
    "\n",
    "#You will observe that as h becomes smaller, the accuracy of the numerical derivative calculation improves, and the absolute error between the analytical and numerical derivatives becomes smaller.\n",
    "#In other words, the accuracy scales with h such that a smaller h yields a more accurate result."
   ]
  },
  {
   "cell_type": "code",
   "execution_count": 32,
   "id": "82ea5297",
   "metadata": {},
   "outputs": [
    {
     "name": "stdout",
     "output_type": "stream",
     "text": [
      "Analytical Derivative at x = 1.0: 1.00000000000000\n",
      "Numerical Derivative at x = 1.0 with h = 0.01: 1.01000000000000\n",
      "Relative Error: 0.0100000000000009\n"
     ]
    }
   ],
   "source": []
  },
  {
   "cell_type": "code",
   "execution_count": 33,
   "id": "7d4798e4",
   "metadata": {},
   "outputs": [
    {
     "name": "stdout",
     "output_type": "stream",
     "text": [
      "Numerical Derivative at a = 1.0 with h = 0.01: 1.010000000000001\n"
     ]
    }
   ],
   "source": []
  },
  {
   "cell_type": "code",
   "execution_count": 60,
   "id": "7d0c992f",
   "metadata": {},
   "outputs": [
    {
     "name": "stdout",
     "output_type": "stream",
     "text": [
      "Risulatato del computer: 1.5691342555492505\n",
      "Vero valore dell'integrale: 1.5707963267948966\n",
      "Numero di fette (n) per runnare in meno di 1 secondo: 1638400\n",
      "Gain per farlo runnare per 1 minuto: 1.0x (n) e 40.363166245231646x (time)\n"
     ]
    }
   ],
   "source": [
    "import math\n",
    "\n",
    "def semicerchio(x):\n",
    "    # Function defining the semicircle\n",
    "    return math.sqrt(1 - pow(x,2))\n",
    "\n",
    "def riemann_integrale(a, b, n):\n",
    "    integrale = 0\n",
    "    fetta = (b - a) / n\n",
    "    h = 2 / n\n",
    "    for i in range(n):\n",
    "        xi = a + i * fetta\n",
    "        integrale += h * semicerchio(xi)\n",
    "    return integrale\n",
    "\n",
    "\n",
    "n = 100\n",
    "\n",
    "risultato = riemann_integrale(-1, 1, n)\n",
    "\n",
    "\n",
    "\n",
    "print(f\"Risulatato del computer: {result}\")\n",
    "print(f\"Vero valore dell'integrale: {true_value}\")\n",
    "\n",
    "#The two results are similar but not identical, because the precision of the approximation depends on the choice of N. \n",
    "#By increasing the value of N, the Riemann sum will become a more accurate approximation of the value of the integral.\n",
    "\n",
    "max_time = 1\n",
    "tempo_esecuzione = timeit.timeit(lambda: riemann_integrale(0, 1, n), number=1)\n",
    "\n",
    "while tempo_esecuzione < max_time:\n",
    "    n *= 2\n",
    "    tempo_esecuzione = timeit.timeit(lambda: riemann_integrale(0, 1, n), number=1)\n",
    "\n",
    "# calcolo \"What is the gain in running it for 1 minute\"\n",
    "n_minute = n\n",
    "execution_time_minute = timeit.timeit(lambda: riemann_integrale(0, 1, n_minute), number=1)\n",
    "n_gain = n_minute / n\n",
    "time_gain = 60 / execution_time_minute\n",
    "\n",
    "print(f\"Numero di fette (n) per runnare in meno di 1 secondo: {n}\")\n",
    "print(f\"Gain per farlo runnare per 1 minuto: {n_gain}x (n) e {time_gain}x (time)\")\n",
    "\n",
    "\n",
    "\n"
   ]
  },
  {
   "cell_type": "code",
   "execution_count": 59,
   "id": "5f80f2a4",
   "metadata": {},
   "outputs": [
    {
     "name": "stdout",
     "output_type": "stream",
     "text": [
      "1638400\n",
      "Number of slices (n) for < 1 second: 1638400\n",
      "Gain in running for 1 minute: 1.0x (n) and 42.3714091326761x (time)\n"
     ]
    }
   ],
   "source": []
  },
  {
   "cell_type": "code",
   "execution_count": null,
   "id": "371e6672",
   "metadata": {},
   "outputs": [],
   "source": []
  }
 ],
 "metadata": {
  "kernelspec": {
   "display_name": "Python 3 (ipykernel)",
   "language": "python",
   "name": "python3"
  },
  "language_info": {
   "codemirror_mode": {
    "name": "ipython",
    "version": 3
   },
   "file_extension": ".py",
   "mimetype": "text/x-python",
   "name": "python",
   "nbconvert_exporter": "python",
   "pygments_lexer": "ipython3",
   "version": "3.11.5"
  }
 },
 "nbformat": 4,
 "nbformat_minor": 5
}
