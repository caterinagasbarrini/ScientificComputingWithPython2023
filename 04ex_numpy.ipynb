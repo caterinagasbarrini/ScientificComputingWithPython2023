{
 "cells": [
  {
   "cell_type": "markdown",
   "metadata": {},
   "source": [
    "1\\. **Reductions**\n",
    "\n",
    "Given the following matrix:\n",
    "\n",
    "```python\n",
    "m = np.arange(12).reshape((3,4))\n",
    "```\n",
    "\n",
    "   1. find the total mean\n",
    "   2. find the mean for each row and column"
   ]
  },
  {
   "cell_type": "code",
   "execution_count": 2,
   "metadata": {},
   "outputs": [],
   "source": [
    "import numpy as np"
   ]
  },
  {
   "cell_type": "code",
   "execution_count": 5,
   "metadata": {},
   "outputs": [
    {
     "name": "stdout",
     "output_type": "stream",
     "text": [
      "[4.0, 5.0, 6.0, 7.0]\n",
      "[1.5, 5.5, 9.5]\n"
     ]
    }
   ],
   "source": [
    "m = np.arange(12).reshape((3,4))\n",
    "mean = np.mean(m)\n",
    "\n",
    "mean_r =[np.mean(m[i,:]) for i in range(3)]\n",
    "mean_c = [np.mean(m[:,i]) for i in range(4)]\n",
    "\n",
    "print(mean_c)\n",
    "print(mean_r)"
   ]
  },
  {
   "cell_type": "code",
   "execution_count": null,
   "metadata": {},
   "outputs": [],
   "source": []
  },
  {
   "cell_type": "markdown",
   "metadata": {},
   "source": [
    "2\\. **Outer product**\n",
    "\n",
    "Find the outer product of the following vectors:\n",
    "\n",
    "```python\n",
    "u = np.array([1, 3, 5, 7])\n",
    "v = np.array([2, 4, 6, 8])\n",
    "```\n",
    "\n",
    "Use different methods to do this:\n",
    "\n",
    "   1. Using the function `outer` in numpy\n",
    "   2. Using a nested `for` loop or a list comprehension\n",
    "   3. Using numpy broadcasting operations"
   ]
  },
  {
   "cell_type": "code",
   "execution_count": 21,
   "metadata": {},
   "outputs": [
    {
     "name": "stdout",
     "output_type": "stream",
     "text": [
      "[[ 2  4  6  8]\n",
      " [ 6 12 18 24]\n",
      " [10 20 30 40]\n",
      " [14 28 42 56]]\n",
      "[[ 2.  4.  6.  8.]\n",
      " [ 6. 12. 18. 24.]\n",
      " [10. 20. 30. 40.]\n",
      " [14. 28. 42. 56.]]\n",
      "[[ 2  4  6  8]\n",
      " [ 6 12 18 24]\n",
      " [10 20 30 40]\n",
      " [14 28 42 56]]\n"
     ]
    }
   ],
   "source": [
    "u = np.array([1, 3, 5, 7])\n",
    "v = np.array([2, 4, 6, 8])\n",
    "outer = np.outer(u,v)\n",
    "print(outer)\n",
    "\n",
    "m = np.zeros((4,4))\n",
    "for i in range(len(u)):\n",
    "    for j in range(len(u)):\n",
    "        m[i][j] = u[i]*v[j]        \n",
    "print(m)\n",
    "\n",
    "vt = v.reshape((4,1))\n",
    "prod = u*vt\n",
    "print(prod.T)"
   ]
  },
  {
   "cell_type": "code",
   "execution_count": null,
   "metadata": {},
   "outputs": [],
   "source": []
  },
  {
   "cell_type": "code",
   "execution_count": 3,
   "metadata": {},
   "outputs": [
    {
     "name": "stdout",
     "output_type": "stream",
     "text": [
      "[[ 2  4  6  8]\n",
      " [ 6 12 18 24]\n",
      " [10 20 30 40]\n",
      " [14 28 42 56]] [[ 2.  4.  6.  8.]\n",
      " [ 6. 12. 18. 24.]\n",
      " [10. 20. 30. 40.]\n",
      " [14. 28. 42. 56.]] [[ 2  4  6  8]\n",
      " [ 6 12 18 24]\n",
      " [10 20 30 40]\n",
      " [14 28 42 56]]\n"
     ]
    }
   ],
   "source": [
    "u = np.array([1, 3, 5, 7])\n",
    "v = np.array([2, 4, 6, 8])\n",
    "\n",
    "# Using the function outer in numpy\n",
    "out_prod = np.outer(u,v)\n",
    "\n",
    "# Using a nested for loop or a list comprehension\n",
    "\n",
    "out_prod1 = np.zeros((4,4))\n",
    "\n",
    "for i in range(4):\n",
    "    for j in range(4):\n",
    "        out_prod1[i,j] =int( u[i]*v[j])\n",
    "        \n",
    "#Using numpy broadcasting operations\n",
    "\n",
    "u = u.reshape(4,1)\n",
    "out_prod2 = u*v\n",
    "        \n",
    "        \n",
    "\n",
    "print(out_prod, out_prod1, out_prod2)"
   ]
  },
  {
   "cell_type": "markdown",
   "metadata": {},
   "source": [
    "3\\. **Matrix masking**\n",
    "\n",
    "Create a $10 \\times 6$ matrix of float random numbers, distributed between 0 and 3 according to a flat distribution.\n",
    "\n",
    "After creating the matrix, set all entries $< 0.3$ to zero using a mask."
   ]
  },
  {
   "cell_type": "markdown",
   "metadata": {},
   "source": []
  },
  {
   "cell_type": "code",
   "execution_count": 25,
   "metadata": {},
   "outputs": [
    {
     "name": "stdout",
     "output_type": "stream",
     "text": [
      "[[0.8624673  0.20009313 1.64221385 1.60387054 2.56706642 0.42059189]\n",
      " [1.13690278 0.94604281 0.41315219 0.38182217 2.13493544 1.91559643]\n",
      " [2.75689106 2.75681873 2.07303165 1.62840791 0.20632192 2.24003406]\n",
      " [2.31748104 2.3505581  0.08465252 2.95728699 2.68005658 1.19982599]\n",
      " [1.86073868 1.72172208 1.14065503 2.77461143 2.30649594 2.85065899]\n",
      " [2.88458467 1.87803482 0.93875103 2.79778631 2.77263612 2.99304862]\n",
      " [2.36335719 1.69114112 0.96311415 1.67082804 1.68833701 2.28534664]\n",
      " [2.61771527 0.52728932 2.33439418 1.05360178 2.74992302 0.18292855]\n",
      " [0.86291708 1.67871138 0.07921062 2.36434815 0.97126513 2.03540102]\n",
      " [0.7644082  2.22934079 0.30245368 1.37973958 1.68290599 1.82571712]]\n"
     ]
    }
   ],
   "source": [
    "import random\n",
    "\n",
    "m= np.random.uniform(0,3, size = (10,6))\n",
    "\n",
    "mask = (m<0.3)\n",
    "m[mask] == 0\n",
    "print(m)"
   ]
  },
  {
   "cell_type": "code",
   "execution_count": 27,
   "metadata": {},
   "outputs": [
    {
     "name": "stdout",
     "output_type": "stream",
     "text": [
      "[[2.23404161 0.55202651 2.43169911 2.13607673 0.22577102 1.55674151]\n",
      " [2.03980543 1.31144468 0.62036984 1.40193238 0.39972761 2.846401  ]\n",
      " [0.30219851 0.24021158 0.75746628 0.10604354 2.71973155 1.68270918]\n",
      " [2.71006234 0.42401187 2.61166618 1.16989037 0.540157   2.48473074]\n",
      " [2.34355724 1.93510771 2.68871957 0.78082318 2.21894069 2.95573293]\n",
      " [2.32103936 2.90974763 1.7799524  1.38232104 2.96930517 0.624361  ]\n",
      " [1.87142169 2.60955611 2.72675993 1.81548104 0.0303829  2.98903571]\n",
      " [2.62595613 1.6630459  0.09500524 2.46072511 2.76751605 0.5143194 ]\n",
      " [2.96273514 0.93088443 0.54101127 2.96873649 1.2733553  1.58886237]\n",
      " [0.41164758 0.36919451 2.93259545 0.13338971 0.90073048 1.07794014]]\n",
      "[[2.23404161 0.55202651 2.43169911 2.13607673 0.         1.55674151]\n",
      " [2.03980543 1.31144468 0.62036984 1.40193238 0.39972761 2.846401  ]\n",
      " [0.30219851 0.         0.75746628 0.         2.71973155 1.68270918]\n",
      " [2.71006234 0.42401187 2.61166618 1.16989037 0.540157   2.48473074]\n",
      " [2.34355724 1.93510771 2.68871957 0.78082318 2.21894069 2.95573293]\n",
      " [2.32103936 2.90974763 1.7799524  1.38232104 2.96930517 0.624361  ]\n",
      " [1.87142169 2.60955611 2.72675993 1.81548104 0.         2.98903571]\n",
      " [2.62595613 1.6630459  0.         2.46072511 2.76751605 0.5143194 ]\n",
      " [2.96273514 0.93088443 0.54101127 2.96873649 1.2733553  1.58886237]\n",
      " [0.41164758 0.36919451 2.93259545 0.         0.90073048 1.07794014]]\n"
     ]
    }
   ],
   "source": [
    "m = np.random.uniform(0,3, size = (10,6))\n",
    "\n",
    "print(m)\n",
    "\n",
    "m[m < 0.3] = 0\n",
    "print(m)"
   ]
  },
  {
   "cell_type": "markdown",
   "metadata": {},
   "source": [
    "4\\. **Trigonometric functions**\n",
    "\n",
    "Use `np.linspace` to create an array of 100 numbers between $0$ and $2\\pi$ (inclusive).\n",
    "\n",
    "  * Extract every 10th element using the slice notation\n",
    "  * Reverse the array using the slice notation\n",
    "  * Extract elements where the absolute difference between the `sin` and `cos` functions evaluated for that element is $< 0.1$\n",
    "  * **Optional**: make a plot showing the `sin` and `cos` functions and indicate graphically (with a line or a marker) where they are close"
   ]
  },
  {
   "cell_type": "code",
   "execution_count": 35,
   "metadata": {},
   "outputs": [
    {
     "name": "stdout",
     "output_type": "stream",
     "text": [
      "[5.71198664 5.07732146 4.44265628 3.8079911  3.17332591 2.53866073\n",
      " 1.90399555 1.26933037 0.63466518 0.        ]\n",
      "[0.76159822 0.82506474 3.87145761 3.93492413]\n"
     ]
    }
   ],
   "source": [
    "import math \n",
    "m = np.linspace(0,2*math.pi,100)\n",
    "sl = m[::10]\n",
    "sl\n",
    "reverse =sl[::-1]\n",
    "print(reverse)\n",
    "\n",
    "mask = np.abs(np.sin(m)-np.cos(m)) < 0.1\n",
    "\n",
    "m = m[mask]\n",
    "print(m)"
   ]
  },
  {
   "cell_type": "code",
   "execution_count": null,
   "metadata": {},
   "outputs": [],
   "source": []
  },
  {
   "cell_type": "code",
   "execution_count": 5,
   "metadata": {},
   "outputs": [
    {
     "name": "stdout",
     "output_type": "stream",
     "text": [
      "[0.         0.63466518 1.26933037 1.90399555 2.53866073 3.17332591\n",
      " 3.8079911  4.44265628 5.07732146 5.71198664]\n",
      "[6.28318531 6.21971879 6.15625227 6.09278575 6.02931923 5.96585272\n",
      " 5.9023862  5.83891968 5.77545316 5.71198664 5.64852012 5.58505361\n",
      " 5.52158709 5.45812057 5.39465405 5.33118753 5.26772102 5.2042545\n",
      " 5.14078798 5.07732146 5.01385494 4.95038842 4.88692191 4.82345539\n",
      " 4.75998887 4.69652235 4.63305583 4.56958931 4.5061228  4.44265628\n",
      " 4.37918976 4.31572324 4.25225672 4.1887902  4.12532369 4.06185717\n",
      " 3.99839065 3.93492413 3.87145761 3.8079911  3.74452458 3.68105806\n",
      " 3.61759154 3.55412502 3.4906585  3.42719199 3.36372547 3.30025895\n",
      " 3.23679243 3.17332591 3.10985939 3.04639288 2.98292636 2.91945984\n",
      " 2.85599332 2.7925268  2.72906028 2.66559377 2.60212725 2.53866073\n",
      " 2.47519421 2.41172769 2.34826118 2.28479466 2.22132814 2.15786162\n",
      " 2.0943951  2.03092858 1.96746207 1.90399555 1.84052903 1.77706251\n",
      " 1.71359599 1.65012947 1.58666296 1.52319644 1.45972992 1.3962634\n",
      " 1.33279688 1.26933037 1.20586385 1.14239733 1.07893081 1.01546429\n",
      " 0.95199777 0.88853126 0.82506474 0.76159822 0.6981317  0.63466518\n",
      " 0.57119866 0.50773215 0.44426563 0.38079911 0.31733259 0.25386607\n",
      " 0.19039955 0.12693304 0.06346652 0.        ]\n",
      "[0.76159822 0.82506474 3.87145761 3.93492413]\n"
     ]
    }
   ],
   "source": [
    "pi_h = math.pi\n",
    "m = np.linspace(0, 2* pi_h, 100)\n",
    "\n",
    "#Extract every 10th element using the slice notation\n",
    "\n",
    "elementi = m[::10]\n",
    "print(elementi)\n",
    "\n",
    "#Reverse the array using the slice notation\n",
    "\n",
    "reverse = m[::-1]\n",
    "print(reverse)\n",
    "\n",
    "\n",
    "#Extract elements where the absolute difference between the sin and cos functions evaluated for that element is  <0.1\n",
    "mask = (abs(np.sin(m) - np.cos(m)) <0.1)\n",
    "m_filtrata = m[mask]\n",
    "print(m_filtrata)"
   ]
  },
  {
   "cell_type": "markdown",
   "metadata": {},
   "source": [
    "5\\. **Matrices**\n",
    "\n",
    "Create a matrix that shows the $10 \\times 10$ multiplication table.\n",
    "\n",
    " * Find the trace of the matrix\n",
    " * Extract the anti-diagonal matrix (this should be ```array([10, 18, 24, 28, 30, 30, 28, 24, 18, 10])```)\n",
    " * Extract the diagonal offset by 1 upwards (this should be ```array([ 2,  6, 12, 20, 30, 42, 56, 72, 90])```)"
   ]
  },
  {
   "cell_type": "code",
   "execution_count": 46,
   "metadata": {},
   "outputs": [
    {
     "name": "stdout",
     "output_type": "stream",
     "text": [
      "[[  1   2   3   4   5   6   7   8   9  10]\n",
      " [  2   4   6   8  10  12  14  16  18  20]\n",
      " [  3   6   9  12  15  18  21  24  27  30]\n",
      " [  4   8  12  16  20  24  28  32  36  40]\n",
      " [  5  10  15  20  25  30  35  40  45  50]\n",
      " [  6  12  18  24  30  36  42  48  54  60]\n",
      " [  7  14  21  28  35  42  49  56  63  70]\n",
      " [  8  16  24  32  40  48  56  64  72  80]\n",
      " [  9  18  27  36  45  54  63  72  81  90]\n",
      " [ 10  20  30  40  50  60  70  80  90 100]]\n",
      "[10 18 24 28 30 30 28 24 18 10]\n",
      "[ 2  6 12 20 30 42 56 72 90]\n"
     ]
    }
   ],
   "source": [
    "v = np.array([1,2,3,4,5,6,7,8,9,10],dtype= int)\n",
    "u = np.array([1,2,3,4,5,6,7,8,9,10], dtype= int)\n",
    "\n",
    "m = np.outer(u,v)\n",
    "print(m)\n",
    "\n",
    "tace = np.trace(m)\n",
    "print(np.diag(np.fliplr(m)))\n",
    "\n",
    "\n",
    "diag = np.diag(m[:,1:])\n",
    "print(diag)\n"
   ]
  },
  {
   "cell_type": "code",
   "execution_count": null,
   "metadata": {},
   "outputs": [],
   "source": []
  },
  {
   "cell_type": "code",
   "execution_count": 6,
   "metadata": {},
   "outputs": [
    {
     "name": "stdout",
     "output_type": "stream",
     "text": [
      "[[  1.   2.   3.   4.   5.   6.   7.   8.   9.  10.]\n",
      " [  2.   4.   6.   8.  10.  12.  14.  16.  18.  20.]\n",
      " [  3.   6.   9.  12.  15.  18.  21.  24.  27.  30.]\n",
      " [  4.   8.  12.  16.  20.  24.  28.  32.  36.  40.]\n",
      " [  5.  10.  15.  20.  25.  30.  35.  40.  45.  50.]\n",
      " [  6.  12.  18.  24.  30.  36.  42.  48.  54.  60.]\n",
      " [  7.  14.  21.  28.  35.  42.  49.  56.  63.  70.]\n",
      " [  8.  16.  24.  32.  40.  48.  56.  64.  72.  80.]\n",
      " [  9.  18.  27.  36.  45.  54.  63.  72.  81.  90.]\n",
      " [ 10.  20.  30.  40.  50.  60.  70.  80.  90. 100.]]\n",
      "[10. 18. 24. 28. 30. 30. 28. 24. 18. 10.]\n",
      "[ 2.  6. 12. 20. 30. 42. 56. 72. 90.]\n"
     ]
    }
   ],
   "source": [
    "v = np.array([1,2,3,4,5,6,7,8,9,10],dtype= int)\n",
    "u = np.array([1,2,3,4,5,6,7,8,9,10], dtype= int).reshape((10,1))\n",
    "\n",
    "#Find the trace of the matrix\n",
    "prod = np.zeros((10,10))\n",
    "\n",
    "for i in range (10):\n",
    "    for j in range(10):\n",
    "        prod[i,j] = u[i]*v[j]\n",
    "        \n",
    " \n",
    "#Extract the anti-diagonal matrix\n",
    "\n",
    "diag = np.diag(prod)\n",
    "antidiag = np.diag(np.fliplr(prod))\n",
    "\n",
    "#xtract the diagonal offset by 1 upwards \n",
    "#elimino la prima colonna e prendo la diagonale\n",
    "\n",
    "prod1 = prod.copy()\n",
    "prod1 = prod1[:,1:]\n",
    "diag1 = np.diag(prod1)\n",
    "\n",
    "\n",
    "print(prod)\n",
    "print(antidiag)\n",
    "print(diag1)"
   ]
  },
  {
   "cell_type": "markdown",
   "metadata": {},
   "source": [
    "6\\. **Broadcasting**\n",
    "\n",
    "Use broadcasting to create a grid of distances.\n",
    "\n",
    "Route 66 crosses the following cities in the US: Chicago, Springfield, Saint-Louis, Tulsa, Oklahoma City, Amarillo, Santa Fe, Albuquerque, Flagstaff, Los Angeles.\n",
    "\n",
    "The corresponding positions in miles are: `0, 198, 303, 736, 871, 1175, 1475, 1544, 1913, 2448`\n",
    "\n",
    "  * Build a 2D grid of distances among each city along Route 66\n",
    "  * Convert the distances in km"
   ]
  },
  {
   "cell_type": "code",
   "execution_count": 50,
   "metadata": {},
   "outputs": [
    {
     "name": "stdout",
     "output_type": "stream",
     "text": [
      "[['0.0' '318.64932' '487.63002' '1184.47424' '1401.73514' '1890.9745'\n",
      "  '2373.7765' '2484.82096' '3078.6674199999998' '3939.66432']\n",
      " ['Chicago' 'Springfield' 'Saint-Louis' 'Tulsa' 'Oklahoma City'\n",
      "  'Amarillo' 'Santa Fe' 'Albuquerque' 'Flagstaff' 'Los Angeles']]\n"
     ]
    }
   ],
   "source": [
    "city = np.array ([\"Chicago\", \"Springfield\", \"Saint-Louis\", \"Tulsa\", \"Oklahoma City\", \"Amarillo\", \"Santa Fe\", \"Albuquerque\", \"Flagstaff\", \"Los Angeles\"])\n",
    "\n",
    "distanza = np.array([0, 198, 303, 736, 871, 1175, 1475, 1544, 1913, 2448])\n",
    "\n",
    "distanza_km = distanza*1.60934\n",
    "\n",
    "m = np.stack((distanza_km, city))\n",
    "print(m)"
   ]
  },
  {
   "cell_type": "code",
   "execution_count": 49,
   "metadata": {},
   "outputs": [
    {
     "name": "stdout",
     "output_type": "stream",
     "text": [
      "[['Chicago' 'Springfield' 'Saint-Louis' 'Tulsa' 'Oklahoma City'\n",
      "  'Amarillo' 'Santa Fe' 'Albuquerque' 'Flagstaff' 'Los Angeles']\n",
      " ['0' '198' '303' '736' '871' '1175' '1475' '1544' '1913' '2448']]\n",
      "[['0.0' '318.64932' '487.63002' '1184.47424' '1401.73514' '1890.9745'\n",
      "  '2373.7765' '2484.82096' '3078.6674199999998' '3939.66432']\n",
      " ['Chicago' 'Springfield' 'Saint-Louis' 'Tulsa' 'Oklahoma City'\n",
      "  'Amarillo' 'Santa Fe' 'Albuquerque' 'Flagstaff' 'Los Angeles']]\n"
     ]
    }
   ],
   "source": [
    "city = np.array ([\"Chicago\", \"Springfield\", \"Saint-Louis\", \"Tulsa\", \"Oklahoma City\", \"Amarillo\", \"Santa Fe\", \"Albuquerque\", \"Flagstaff\", \"Los Angeles\"])\n",
    "\n",
    "distanza = np.array([0, 198, 303, 736, 871, 1175, 1475, 1544, 1913, 2448])\n",
    "\n",
    "distanza_km = distanza*1.60934\n",
    "\n",
    "route_66 = np.stack((city,distanza))\n",
    "\n",
    "#1 mile = 1.60934 kilometers\n",
    "\n",
    "route_66_km = np.stack((distanza_km,city))\n",
    "\n",
    "print(route_66)\n",
    "print(route_66_km)"
   ]
  },
  {
   "cell_type": "markdown",
   "metadata": {},
   "source": [
    "7\\. **Prime numbers sieve**\n",
    "\n",
    "Compute the prime numbers in the 0-N (start with N=99) range with a sieve (mask).\n",
    "\n",
    "  * Construct a shape (N,) boolean array, which is the mask\n",
    "  * Identify the multiples of each number starting from 2 and set accordingly the corresponding mask element\n",
    "  * Apply the mask to obtain an array of ordered prime numbers\n",
    "  * Check the performances (with `timeit`); how does it scale with N?\n",
    "  * Implement the optimization suggested in the [sieve of Eratosthenes](https://en.wikipedia.org/wiki/Sieve_of_Eratosthenes)"
   ]
  },
  {
   "cell_type": "code",
   "execution_count": 81,
   "metadata": {},
   "outputs": [
    {
     "name": "stdout",
     "output_type": "stream",
     "text": [
      "[ 1  2  3  5  7 11 13 17 19 23 29 31 37 41 43 47 53 59 61 67 71 73 79 83\n",
      " 89 97 99]\n"
     ]
    }
   ],
   "source": [
    "from time import timeit\n",
    "\n",
    "N=np.arange(0,100,1)\n",
    "mask = np.full(100,True)\n",
    "\n",
    "for i in range(len(N)):\n",
    "    if N[i]%2 == 0 and N[i]!= 2:\n",
    "        mask[i]= False\n",
    "\n",
    "#per tutti gli altri numeri \n",
    "for i in range (3, 99):\n",
    "    for j in range(i+1, 99):\n",
    "        if N[j]% N[i] == 0:\n",
    "            mask[j]= False\n",
    "            \n",
    "\n",
    "print(N[mask])"
   ]
  },
  {
   "cell_type": "code",
   "execution_count": null,
   "metadata": {},
   "outputs": [],
   "source": []
  },
  {
   "cell_type": "code",
   "execution_count": 8,
   "metadata": {},
   "outputs": [
    {
     "name": "stdout",
     "output_type": "stream",
     "text": [
      "[0.002569400006905198, 0.30811919999541715, 30.06320939998841]\n",
      "[ 2  3  5  7 11 13 17 19 23 29 31 37 41 43 47 53 59 61 67 71 73 79 83 89\n",
      " 97]\n"
     ]
    }
   ],
   "source": [
    "#calcolo i numeri primi\n",
    "N = 99\n",
    "\n",
    "def trova_primi(N):\n",
    "    v = np.arange(N)\n",
    "\n",
    "#Construct a shape (N,) boolean array, which is the mask\n",
    "    mask = np.full((N), True)\n",
    "\n",
    "#Identify the multiples of each number starting from 2 and set accordingly the corresponding mask element\n",
    "\n",
    "    for i in range (2,N-1):\n",
    "        for j in range(i+1,N):\n",
    "            if v[j] % v[i] == 0 :\n",
    "                mask[j] = False\n",
    " \n",
    "#Apply the mask to obtain an array of ordered prime numbers\n",
    "    primi = v[mask]\n",
    "    return primi\n",
    "\n",
    "#Check the performances (with timeit); how does it scale with N?\n",
    "num = [N, 1000, 10000]\n",
    "time =[]\n",
    "\n",
    "tempo = timeit.timeit(lambda: trova_primi(99), number=1)\n",
    "time.append(tempo)\n",
    "tempo1 = timeit.timeit(lambda: trova_primi(1000), number=1)\n",
    "time.append(tempo1)\n",
    "tempo2 = timeit.timeit(lambda: trova_primi(10000), number=1)\n",
    "time.append(tempo2)\n",
    "#tempo3 = timeit.timeit(lambda: trova_primi(100000), number=1)\n",
    "#time.append(tempo)\n",
    " \n",
    "print(time) \n",
    "\n",
    "\n",
    "#Implement the optimization suggested in the sieve of Eratosthenes\n",
    "\n",
    "u = np.arange(2,100,1)\n",
    "mask = np.full((N), True)\n",
    "\n",
    "p = 2\n",
    "i =0\n",
    "j = 1\n",
    "while i <len(u)-1:\n",
    "    j = i+1\n",
    "    while j < len(u):\n",
    "        if u[j] % u [i] == 0:\n",
    "            u = np.delete(u,j)\n",
    "        j +=1\n",
    "        \n",
    "    i +=1\n",
    "\n",
    "            \n",
    "print(u)    \n"
   ]
  },
  {
   "cell_type": "markdown",
   "metadata": {},
   "source": [
    "8\\. **Diffusion using random walk**\n",
    "\n",
    "Consider a simple random walk process: at each step in time, a walker jumps right or left (+1 or -1) with equal probability. The goal is to find the typical distance from the origin of many random walkers after a given amount of time.\n",
    "\n",
    "*Hint*: create a 2D array where each row represents a walker, and each column represents a time step.\n",
    "\n",
    "  * Take 1000 walkers and let them walk for 200 steps\n",
    "  * Use `randint` to create a 2D array of size $walkers \\times steps$ with values -1 or 1\n",
    "  * Calculate the walking distances for each walker (e.g. by summing the elements in each row)\n",
    "  * Take the square of the previously-obtained array (element-wise)\n",
    "  * Compute the mean of the squared distances at each step (i.e. the mean along the columns)\n",
    "  * **Optional**: plot the average distances ($\\sqrt(distance^2)$) as a function of time (step)"
   ]
  },
  {
   "cell_type": "code",
   "execution_count": 9,
   "metadata": {},
   "outputs": [
    {
     "name": "stdout",
     "output_type": "stream",
     "text": [
      "[  1.      2.048   3.136   4.06    5.128   6.136   7.36    8.648   9.568\n",
      "  10.704  11.368  12.36   13.424  14.288  15.296  16.14   17.264  18.124\n",
      "  18.96   19.68   20.728  21.652  22.056  23.04   23.64   24.704  25.608\n",
      "  27.212  28.84   30.204  31.08   31.744  33.152  33.904  35.032  36.156\n",
      "  37.312  38.356  40.088  40.548  40.96   42.232  43.224  44.384  45.04\n",
      "  45.448  46.176  46.812  47.584  48.62   50.456  51.772  52.056  53.312\n",
      "  53.824  54.368  55.248  55.676  57.     57.66   58.6    59.68   60.104\n",
      "  60.932  62.72   64.004  65.432  66.58   67.168  68.928  70.104  71.664\n",
      "  72.504  73.82   74.328  75.452  75.968  77.188  78.128  78.468  78.824\n",
      "  81.072  80.624  82.008  83.344  84.656  86.752  88.172  88.096  87.988\n",
      "  88.824  89.32   89.744  91.016  92.184  92.716  93.784  94.408  95.312\n",
      "  97.12   96.96   98.88  100.48  101.288 102.224 101.188 103.384 104.8\n",
      " 106.024 107.136 107.832 108.184 109.312 110.328 111.688 113.62  115.592\n",
      " 116.232 118.424 119.392 121.4   123.256 125.032 125.988 127.12  128.376\n",
      " 130.2   130.604 131.24  132.552 134.168 135.544 135.592 136.86  137.68\n",
      " 138.04  139.52  140.988 141.528 142.876 142.448 144.04  144.264 145.652\n",
      " 148.696 150.304 151.784 151.42  152.032 153.156 154.224 156.048 157.112\n",
      " 158.144 158.952 160.732 162.64  163.004 164.064 166.22  165.8   166.42\n",
      " 167.16  168.556 170.456 172.52  172.592 172.948 174.032 174.912 175.56\n",
      " 176.132 176.592 178.264 177.944 178.828 180.112 181.272 181.8   182.86\n",
      " 184.616 185.168 185.848 185.908 186.728 187.352 188.944 188.82  188.352\n",
      " 190.636 190.56  192.304 194.928 195.1   196.    196.708 196.232 198.096\n",
      " 197.704 197.424]\n"
     ]
    }
   ],
   "source": [
    "#Use randint to create a 2D array of size  𝑤𝑎𝑙𝑘𝑒𝑟𝑠×𝑠𝑡𝑒𝑝𝑠\n",
    "#with values -1 or 1\n",
    "walkers = 1000\n",
    "steps = 200\n",
    "campo = npr.randint(0,2, size= (walkers,steps)) *2 -1\n",
    "\n",
    "#Calculate the walking distances for each walker (e.g. by summing the elements in each row)\n",
    "\n",
    "walking_distance = np.cumsum(campo, axis = 1)\n",
    "\n",
    "#Take the square of the previously-obtained array (element-wise)\n",
    "\n",
    "walking_distance_qu= pow(walking_distance,2)\n",
    "\n",
    "\n",
    "#Compute the mean of the squared distances at each step (i.e. the mean along the columns)   \n",
    "\n",
    "#calcolo la media\n",
    "media =np.mean(walking_distance_qu, axis = 0 )\n",
    "\n",
    "print(media)    \n",
    "\n",
    "\n",
    "\n",
    "    \n"
   ]
  },
  {
   "cell_type": "code",
   "execution_count": 10,
   "metadata": {},
   "outputs": [
    {
     "name": "stdout",
     "output_type": "stream",
     "text": [
      "0.0038441000506281853\n"
     ]
    }
   ],
   "source": [
    "print(timeit.timeit(lambda: trova_primi(99), number=1))"
   ]
  },
  {
   "cell_type": "code",
   "execution_count": null,
   "metadata": {},
   "outputs": [],
   "source": []
  }
 ],
 "metadata": {
  "kernelspec": {
   "display_name": "Python 3 (ipykernel)",
   "language": "python",
   "name": "python3"
  },
  "language_info": {
   "codemirror_mode": {
    "name": "ipython",
    "version": 3
   },
   "file_extension": ".py",
   "mimetype": "text/x-python",
   "name": "python",
   "nbconvert_exporter": "python",
   "pygments_lexer": "ipython3",
   "version": "3.11.5"
  }
 },
 "nbformat": 4,
 "nbformat_minor": 2
}
