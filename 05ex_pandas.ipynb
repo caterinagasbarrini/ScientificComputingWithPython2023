{
 "cells": [
  {
   "cell_type": "markdown",
   "metadata": {},
   "source": [
    "1\\. **Pandas DataFrame**\n",
    "\n",
    "This exercise consists in analyzing a dataset containg timing information from a series of Time-to-Digital-Converters (TDC) implemented in a pair of FPGAs. Each measurement (i.e. each row of the input file) consists of a flag that specifies the type of message ('HEAD', which in this case is always 1), two addresses of the TDC providing the signal ('FPGA' and 'TDC_CHANNEL'), and the timing information ('ORBIT_CNT', 'BX_COUNTER', and 'TDC_MEAS'). Each TDC count corresponds to 25/30 ns, whereas a unit of BX_COUNTER corresponds to 25 ns, and the ORBIT_CNT is increased every `x` BX_COUNTER. This allows to store the time in a similar way to hours, minutes and seconds."
   ]
  },
  {
   "cell_type": "code",
   "execution_count": 2,
   "metadata": {},
   "outputs": [
    {
     "name": "stdout",
     "output_type": "stream",
     "text": [
      "<a href=\"/s/raw/xvjzaxzz3ysphme/data_000637.txt\">Found</a>.\n",
      "\n"
     ]
    },
    {
     "name": "stderr",
     "output_type": "stream",
     "text": [
      "  % Total    % Received % Xferd  Average Speed   Time    Time     Time  Current\n",
      "                                 Dload  Upload   Total   Spent    Left  Speed\n",
      "\n",
      "  0     0    0     0    0     0      0      0 --:--:-- --:--:-- --:--:--     0\n",
      "100    61    0    61    0     0    130      0 --:--:-- --:--:-- --:--:--   131\n"
     ]
    }
   ],
   "source": [
    "# If haven't downloaded it yet, please get the data file with wget\n",
    "!curl https://www.dropbox.com/s/xvjzaxzz3ysphme/data_000637.txt -P ./data/\n",
    "    \n",
    "    \n",
    "    \n",
    "#invoc iwr\n",
    "import pandas as pd\n",
    "import numpy as np\n",
    "import random as r"
   ]
  },
  {
   "cell_type": "markdown",
   "metadata": {},
   "source": [
    "1\\. Create a Pandas DataFrame reading N rows of the `data/data_000637.txt` dataset. Choose N to be smaller than or equal to the maximum number of rows and larger that 10k (check the documentation)."
   ]
  },
  {
   "cell_type": "code",
   "execution_count": 13,
   "metadata": {},
   "outputs": [
    {
     "data": {
      "text/html": [
       "<div>\n",
       "<style scoped>\n",
       "    .dataframe tbody tr th:only-of-type {\n",
       "        vertical-align: middle;\n",
       "    }\n",
       "\n",
       "    .dataframe tbody tr th {\n",
       "        vertical-align: top;\n",
       "    }\n",
       "\n",
       "    .dataframe thead th {\n",
       "        text-align: right;\n",
       "    }\n",
       "</style>\n",
       "<table border=\"1\" class=\"dataframe\">\n",
       "  <thead>\n",
       "    <tr style=\"text-align: right;\">\n",
       "      <th></th>\n",
       "      <th>HEAD</th>\n",
       "      <th>FPGA</th>\n",
       "      <th>TDC_CHANNEL</th>\n",
       "      <th>ORBIT_CNT</th>\n",
       "      <th>BX_COUNTER</th>\n",
       "      <th>TDC_MEAS</th>\n",
       "    </tr>\n",
       "  </thead>\n",
       "  <tbody>\n",
       "    <tr>\n",
       "      <th>0</th>\n",
       "      <td>1</td>\n",
       "      <td>0</td>\n",
       "      <td>123</td>\n",
       "      <td>3869200167</td>\n",
       "      <td>2374</td>\n",
       "      <td>26</td>\n",
       "    </tr>\n",
       "    <tr>\n",
       "      <th>1</th>\n",
       "      <td>1</td>\n",
       "      <td>0</td>\n",
       "      <td>124</td>\n",
       "      <td>3869200167</td>\n",
       "      <td>2374</td>\n",
       "      <td>27</td>\n",
       "    </tr>\n",
       "    <tr>\n",
       "      <th>2</th>\n",
       "      <td>1</td>\n",
       "      <td>0</td>\n",
       "      <td>63</td>\n",
       "      <td>3869200167</td>\n",
       "      <td>2553</td>\n",
       "      <td>28</td>\n",
       "    </tr>\n",
       "    <tr>\n",
       "      <th>3</th>\n",
       "      <td>1</td>\n",
       "      <td>0</td>\n",
       "      <td>64</td>\n",
       "      <td>3869200167</td>\n",
       "      <td>2558</td>\n",
       "      <td>19</td>\n",
       "    </tr>\n",
       "    <tr>\n",
       "      <th>4</th>\n",
       "      <td>1</td>\n",
       "      <td>0</td>\n",
       "      <td>64</td>\n",
       "      <td>3869200167</td>\n",
       "      <td>2760</td>\n",
       "      <td>25</td>\n",
       "    </tr>\n",
       "    <tr>\n",
       "      <th>...</th>\n",
       "      <td>...</td>\n",
       "      <td>...</td>\n",
       "      <td>...</td>\n",
       "      <td>...</td>\n",
       "      <td>...</td>\n",
       "      <td>...</td>\n",
       "    </tr>\n",
       "    <tr>\n",
       "      <th>638577</th>\n",
       "      <td>1</td>\n",
       "      <td>0</td>\n",
       "      <td>60</td>\n",
       "      <td>3869206570</td>\n",
       "      <td>3327</td>\n",
       "      <td>19</td>\n",
       "    </tr>\n",
       "    <tr>\n",
       "      <th>638578</th>\n",
       "      <td>1</td>\n",
       "      <td>1</td>\n",
       "      <td>17</td>\n",
       "      <td>3869206570</td>\n",
       "      <td>3321</td>\n",
       "      <td>20</td>\n",
       "    </tr>\n",
       "    <tr>\n",
       "      <th>638579</th>\n",
       "      <td>1</td>\n",
       "      <td>0</td>\n",
       "      <td>61</td>\n",
       "      <td>3869206570</td>\n",
       "      <td>3326</td>\n",
       "      <td>12</td>\n",
       "    </tr>\n",
       "    <tr>\n",
       "      <th>638580</th>\n",
       "      <td>1</td>\n",
       "      <td>1</td>\n",
       "      <td>4</td>\n",
       "      <td>3869206570</td>\n",
       "      <td>3322</td>\n",
       "      <td>9</td>\n",
       "    </tr>\n",
       "    <tr>\n",
       "      <th>638581</th>\n",
       "      <td>1</td>\n",
       "      <td>0</td>\n",
       "      <td>44</td>\n",
       "      <td>3869206570</td>\n",
       "      <td>3331</td>\n",
       "      <td>7</td>\n",
       "    </tr>\n",
       "  </tbody>\n",
       "</table>\n",
       "<p>638582 rows × 6 columns</p>\n",
       "</div>"
      ],
      "text/plain": [
       "        HEAD  FPGA  TDC_CHANNEL   ORBIT_CNT  BX_COUNTER  TDC_MEAS\n",
       "0          1     0          123  3869200167        2374        26\n",
       "1          1     0          124  3869200167        2374        27\n",
       "2          1     0           63  3869200167        2553        28\n",
       "3          1     0           64  3869200167        2558        19\n",
       "4          1     0           64  3869200167        2760        25\n",
       "...      ...   ...          ...         ...         ...       ...\n",
       "638577     1     0           60  3869206570        3327        19\n",
       "638578     1     1           17  3869206570        3321        20\n",
       "638579     1     0           61  3869206570        3326        12\n",
       "638580     1     1            4  3869206570        3322         9\n",
       "638581     1     0           44  3869206570        3331         7\n",
       "\n",
       "[638582 rows x 6 columns]"
      ]
     },
     "execution_count": 13,
     "metadata": {},
     "output_type": "execute_result"
    }
   ],
   "source": [
    "import pandas as pd\n",
    "import random\n",
    "\n",
    "data = pd.read_csv('data/data_000637.txt')\n",
    "data = pd.DataFrame(data)\n",
    "N = random.randint(10000, data.shape[0])\n",
    "\n",
    "data = data[0:N]\n",
    "data"
   ]
  },
  {
   "cell_type": "markdown",
   "metadata": {},
   "source": [
    "2\\. Estimate the number of BX in a ORBIT (the value `x`).\n",
    "\n",
    "*Hint*: check when the BX counter reaches the maximum value before being reset to 0."
   ]
  },
  {
   "cell_type": "code",
   "execution_count": 24,
   "metadata": {},
   "outputs": [
    {
     "name": "stdout",
     "output_type": "stream",
     "text": [
      "401134\n"
     ]
    }
   ],
   "source": [
    "bx = data['BX_COUNTER'] \n",
    "count = 0\n",
    "for i in range(1,N):\n",
    "    if bx[i]> bx[i-1]:\n",
    "        count+=1\n",
    "print(count)"
   ]
  },
  {
   "cell_type": "code",
   "execution_count": 26,
   "metadata": {},
   "outputs": [
    {
     "name": "stdout",
     "output_type": "stream",
     "text": [
      "        BX_COUNTER\n",
      "0             2374\n",
      "1             2374\n",
      "2             2553\n",
      "3             2558\n",
      "4             2760\n",
      "...            ...\n",
      "638577        3327\n",
      "638578        3321\n",
      "638579        3326\n",
      "638580        3322\n",
      "638581        3331\n",
      "\n",
      "[638582 rows x 1 columns]\n",
      "[3563]\n"
     ]
    }
   ],
   "source": [
    "# prendo la colonna BX\n",
    "\n",
    "BX = data.loc[:,['BX_COUNTER']]\n",
    "print(BX)\n",
    "\n",
    "x = max(BX.values)\n",
    "\n",
    "print(x)\n"
   ]
  },
  {
   "cell_type": "markdown",
   "metadata": {},
   "source": [
    "3\\. Create a new column with the absolute time in ns (as a combination of the other three columns with timing information) since the beginning of the data acquisition, and convert the new column to a Time Series.\n",
    "\n",
    "*Hint:* introduce an offset to the absolute time such that the start of the data acquisition (i.e. the first entry) is zero."
   ]
  },
  {
   "cell_type": "code",
   "execution_count": 47,
   "metadata": {},
   "outputs": [],
   "source": [
    "import numpy as np\n",
    "tdc = data['TDC_CHANNEL']*25/30\n",
    "bx = data['BX_COUNTER'] *25\n",
    "orbit = data['ORBIT_CNT']*25*count\n",
    "\n",
    "data['Time_Series'] = tdc+bx+orbit\n",
    "\n",
    "\n",
    "data['Time_Series'] -= data['Time_Series'].min()\n",
    "\n"
   ]
  },
  {
   "cell_type": "code",
   "execution_count": 61,
   "metadata": {},
   "outputs": [
    {
     "data": {
      "text/html": [
       "<div>\n",
       "<style scoped>\n",
       "    .dataframe tbody tr th:only-of-type {\n",
       "        vertical-align: middle;\n",
       "    }\n",
       "\n",
       "    .dataframe tbody tr th {\n",
       "        vertical-align: top;\n",
       "    }\n",
       "\n",
       "    .dataframe thead th {\n",
       "        text-align: right;\n",
       "    }\n",
       "</style>\n",
       "<table border=\"1\" class=\"dataframe\">\n",
       "  <thead>\n",
       "    <tr style=\"text-align: right;\">\n",
       "      <th></th>\n",
       "      <th>HEAD</th>\n",
       "      <th>FPGA</th>\n",
       "      <th>TDC_CHANNEL</th>\n",
       "      <th>ORBIT_CNT</th>\n",
       "      <th>BX_COUNTER</th>\n",
       "      <th>TDC_MEAS</th>\n",
       "      <th>Time_Series</th>\n",
       "      <th>TimeSeries</th>\n",
       "    </tr>\n",
       "  </thead>\n",
       "  <tbody>\n",
       "    <tr>\n",
       "      <th>0</th>\n",
       "      <td>1</td>\n",
       "      <td>0</td>\n",
       "      <td>123</td>\n",
       "      <td>3869200167</td>\n",
       "      <td>2374</td>\n",
       "      <td>26</td>\n",
       "      <td>1970-01-01 00:00:00.000000000</td>\n",
       "      <td>0.000000e+00</td>\n",
       "    </tr>\n",
       "    <tr>\n",
       "      <th>1</th>\n",
       "      <td>1</td>\n",
       "      <td>0</td>\n",
       "      <td>124</td>\n",
       "      <td>3869200167</td>\n",
       "      <td>2374</td>\n",
       "      <td>27</td>\n",
       "      <td>1970-01-01 00:00:00.000000000</td>\n",
       "      <td>8.125000e-01</td>\n",
       "    </tr>\n",
       "    <tr>\n",
       "      <th>2</th>\n",
       "      <td>1</td>\n",
       "      <td>0</td>\n",
       "      <td>63</td>\n",
       "      <td>3869200167</td>\n",
       "      <td>2553</td>\n",
       "      <td>28</td>\n",
       "      <td>1970-01-01 00:00:00.000004424</td>\n",
       "      <td>4.476625e+03</td>\n",
       "    </tr>\n",
       "    <tr>\n",
       "      <th>3</th>\n",
       "      <td>1</td>\n",
       "      <td>0</td>\n",
       "      <td>64</td>\n",
       "      <td>3869200167</td>\n",
       "      <td>2558</td>\n",
       "      <td>19</td>\n",
       "      <td>1970-01-01 00:00:00.000004544</td>\n",
       "      <td>4.594125e+03</td>\n",
       "    </tr>\n",
       "    <tr>\n",
       "      <th>4</th>\n",
       "      <td>1</td>\n",
       "      <td>0</td>\n",
       "      <td>64</td>\n",
       "      <td>3869200167</td>\n",
       "      <td>2760</td>\n",
       "      <td>25</td>\n",
       "      <td>1970-01-01 00:00:00.000009600</td>\n",
       "      <td>9.649125e+03</td>\n",
       "    </tr>\n",
       "    <tr>\n",
       "      <th>...</th>\n",
       "      <td>...</td>\n",
       "      <td>...</td>\n",
       "      <td>...</td>\n",
       "      <td>...</td>\n",
       "      <td>...</td>\n",
       "      <td>...</td>\n",
       "      <td>...</td>\n",
       "      <td>...</td>\n",
       "    </tr>\n",
       "    <tr>\n",
       "      <th>638577</th>\n",
       "      <td>1</td>\n",
       "      <td>0</td>\n",
       "      <td>60</td>\n",
       "      <td>3869206570</td>\n",
       "      <td>3327</td>\n",
       "      <td>19</td>\n",
       "      <td>1970-01-01 00:01:04.211548824</td>\n",
       "      <td>5.703710e+08</td>\n",
       "    </tr>\n",
       "    <tr>\n",
       "      <th>638578</th>\n",
       "      <td>1</td>\n",
       "      <td>1</td>\n",
       "      <td>17</td>\n",
       "      <td>3869206570</td>\n",
       "      <td>3321</td>\n",
       "      <td>20</td>\n",
       "      <td>1970-01-01 00:01:04.211548640</td>\n",
       "      <td>5.703709e+08</td>\n",
       "    </tr>\n",
       "    <tr>\n",
       "      <th>638579</th>\n",
       "      <td>1</td>\n",
       "      <td>0</td>\n",
       "      <td>61</td>\n",
       "      <td>3869206570</td>\n",
       "      <td>3326</td>\n",
       "      <td>12</td>\n",
       "      <td>1970-01-01 00:01:04.211548800</td>\n",
       "      <td>5.703710e+08</td>\n",
       "    </tr>\n",
       "    <tr>\n",
       "      <th>638580</th>\n",
       "      <td>1</td>\n",
       "      <td>1</td>\n",
       "      <td>4</td>\n",
       "      <td>3869206570</td>\n",
       "      <td>3322</td>\n",
       "      <td>9</td>\n",
       "      <td>1970-01-01 00:01:04.211548656</td>\n",
       "      <td>5.703709e+08</td>\n",
       "    </tr>\n",
       "    <tr>\n",
       "      <th>638581</th>\n",
       "      <td>1</td>\n",
       "      <td>0</td>\n",
       "      <td>44</td>\n",
       "      <td>3869206570</td>\n",
       "      <td>3331</td>\n",
       "      <td>7</td>\n",
       "      <td>1970-01-01 00:01:04.211548912</td>\n",
       "      <td>5.703711e+08</td>\n",
       "    </tr>\n",
       "  </tbody>\n",
       "</table>\n",
       "<p>638582 rows × 8 columns</p>\n",
       "</div>"
      ],
      "text/plain": [
       "        HEAD  FPGA  TDC_CHANNEL   ORBIT_CNT  BX_COUNTER  TDC_MEAS  \\\n",
       "0          1     0          123  3869200167        2374        26   \n",
       "1          1     0          124  3869200167        2374        27   \n",
       "2          1     0           63  3869200167        2553        28   \n",
       "3          1     0           64  3869200167        2558        19   \n",
       "4          1     0           64  3869200167        2760        25   \n",
       "...      ...   ...          ...         ...         ...       ...   \n",
       "638577     1     0           60  3869206570        3327        19   \n",
       "638578     1     1           17  3869206570        3321        20   \n",
       "638579     1     0           61  3869206570        3326        12   \n",
       "638580     1     1            4  3869206570        3322         9   \n",
       "638581     1     0           44  3869206570        3331         7   \n",
       "\n",
       "                         Time_Series    TimeSeries  \n",
       "0      1970-01-01 00:00:00.000000000  0.000000e+00  \n",
       "1      1970-01-01 00:00:00.000000000  8.125000e-01  \n",
       "2      1970-01-01 00:00:00.000004424  4.476625e+03  \n",
       "3      1970-01-01 00:00:00.000004544  4.594125e+03  \n",
       "4      1970-01-01 00:00:00.000009600  9.649125e+03  \n",
       "...                              ...           ...  \n",
       "638577 1970-01-01 00:01:04.211548824  5.703710e+08  \n",
       "638578 1970-01-01 00:01:04.211548640  5.703709e+08  \n",
       "638579 1970-01-01 00:01:04.211548800  5.703710e+08  \n",
       "638580 1970-01-01 00:01:04.211548656  5.703709e+08  \n",
       "638581 1970-01-01 00:01:04.211548912  5.703711e+08  \n",
       "\n",
       "[638582 rows x 8 columns]"
      ]
     },
     "execution_count": 61,
     "metadata": {},
     "output_type": "execute_result"
    }
   ],
   "source": [
    "data['TimeSeries'] = (data['ORBIT_CNT'] * x * 25) + (data['BX_COUNTER'] * 25) + data['TDC_MEAS'] * (25/30)\n",
    "\n",
    "data['TimeSeries'] -= data['TimeSeries'].min()\n",
    "\n",
    "data"
   ]
  },
  {
   "cell_type": "markdown",
   "metadata": {},
   "source": [
    "4\\. Find out the duration of the data taking in hours, minutes and seconds, by using the features of the Time Series. Perform this check reading the whole dataset."
   ]
  },
  {
   "cell_type": "code",
   "execution_count": 71,
   "metadata": {},
   "outputs": [
    {
     "name": "stdout",
     "output_type": "stream",
     "text": [
      "1970-01-01 00:00:00.570371134\n",
      "Data taking duration: 0 hours, 1 minutes, 4 seconds\n"
     ]
    }
   ],
   "source": [
    "import datetime as dt\n",
    "#data['Time_Series'] = pd.to_datetime(data['Time_Series'])\n",
    "tstamp = pd.Timestamp(data.loc[N-1,'TimeSeries'])\n",
    "print(tstamp)\n",
    "\n",
    "duratao = int(durata)//3600\n",
    "duratam = int((durata%3600)//60)\n",
    "duratas = int(durata%60)\n",
    "print(f\"Data taking duration: {duratao} hours, {duratam} minutes, {duratas} seconds\")\n"
   ]
  },
  {
   "cell_type": "code",
   "execution_count": null,
   "metadata": {},
   "outputs": [],
   "source": []
  },
  {
   "cell_type": "code",
   "execution_count": 63,
   "metadata": {},
   "outputs": [
    {
     "name": "stdout",
     "output_type": "stream",
     "text": [
      "Durata della raccolta dati: 158436 ore, 25 minuti, 34 secondi\n"
     ]
    }
   ],
   "source": [
    "durata = data['TimeSeries'].max() - data['TimeSeries'].min() \n",
    "durata_ore = int(durata // 3600)\n",
    "durata_minuti = int((durata % 3600) // 60)\n",
    "durata_secondi = int(durata % 60)\n",
    "\n",
    "print(f\"Durata della raccolta dati: {durata_ore} ore, {durata_minuti} minuti, {durata_secondi} secondi\")\n"
   ]
  },
  {
   "cell_type": "markdown",
   "metadata": {},
   "source": [
    "5\\. Use the `.groupby()` method to find out the noisy channels, i.e. the TDC channels with most counts (print to screen the top 3 and the corresponding counts)"
   ]
  },
  {
   "cell_type": "code",
   "execution_count": 82,
   "metadata": {},
   "outputs": [
    {
     "name": "stdout",
     "output_type": "stream",
     "text": [
      "TDC_CHANNEL\n",
      "139    53072\n",
      "64     31984\n",
      "63     31380\n",
      "dtype: int64\n"
     ]
    }
   ],
   "source": [
    "df = (data.groupby('TDC_CHANNEL').size()).sort_values(ascending=False)\n",
    "g = df.head(3)\n",
    "print(g)"
   ]
  },
  {
   "cell_type": "code",
   "execution_count": null,
   "metadata": {},
   "outputs": [],
   "source": []
  },
  {
   "cell_type": "code",
   "execution_count": 78,
   "metadata": {},
   "outputs": [
    {
     "name": "stdout",
     "output_type": "stream",
     "text": [
      "Top 3 Noisy Channels:\n",
      "TDC_CHANNEL\n",
      "139    53072\n",
      "64     31984\n",
      "63     31380\n",
      "dtype: int64\n"
     ]
    }
   ],
   "source": [
    "# raggruppo in base al TCD_CHANNEL e conto quanti sono\n",
    "noisy_channels = (data.groupby('TDC_CHANNEL').size()).sort_values(ascending=False)\n",
    "\n",
    "top_noisy_channels = noisy_channels.head(3)\n",
    "\n",
    "print(\"Top 3 Noisy Channels:\")\n",
    "print(top_noisy_channels)\n"
   ]
  },
  {
   "cell_type": "markdown",
   "metadata": {},
   "source": [
    "6\\. Count the number of non-empty orbits (i.e. the number of orbits with at least one hit)."
   ]
  },
  {
   "cell_type": "code",
   "execution_count": 86,
   "metadata": {},
   "outputs": [
    {
     "name": "stdout",
     "output_type": "stream",
     "text": [
      "Number of Non-Empty Orbits: 6400\n"
     ]
    }
   ],
   "source": [
    "non_empty_orbits = data.groupby('ORBIT_CNT')['TDC_MEAS'].nunique() \n",
    "\n",
    "count_non_empty_orbits = non_empty_orbits[non_empty_orbits>0].count()\n",
    "\n",
    "print(\"Number of Non-Empty Orbits:\", count_non_empty_orbits)\n"
   ]
  },
  {
   "cell_type": "markdown",
   "metadata": {},
   "source": [
    "7\\. Count the number of unique orbits with at least one measurement from TDC_CHANNEL=139."
   ]
  },
  {
   "cell_type": "code",
   "execution_count": 100,
   "metadata": {},
   "outputs": [
    {
     "ename": "KeyError",
     "evalue": "'Column not found: False'",
     "output_type": "error",
     "traceback": [
      "\u001b[1;31m---------------------------------------------------------------------------\u001b[0m",
      "\u001b[1;31mKeyError\u001b[0m                                  Traceback (most recent call last)",
      "Cell \u001b[1;32mIn[100], line 1\u001b[0m\n\u001b[1;32m----> 1\u001b[0m df \u001b[38;5;241m=\u001b[39m data[data[\u001b[38;5;124m'\u001b[39m\u001b[38;5;124mTDC_CHANNEL\u001b[39m\u001b[38;5;124m'\u001b[39m] \u001b[38;5;241m==\u001b[39m \u001b[38;5;241m139\u001b[39m]\n\u001b[0;32m      2\u001b[0m \u001b[38;5;28mprint\u001b[39m(data)\n\u001b[0;32m      3\u001b[0m unique_orbits_count \u001b[38;5;241m=\u001b[39m df[\u001b[38;5;124m'\u001b[39m\u001b[38;5;124mORBIT_CNT\u001b[39m\u001b[38;5;124m'\u001b[39m]\u001b[38;5;241m.\u001b[39mnunique()\n",
      "File \u001b[1;32m~\\anaconda3\\Lib\\site-packages\\pandas\\core\\groupby\\generic.py:1771\u001b[0m, in \u001b[0;36mDataFrameGroupBy.__getitem__\u001b[1;34m(self, key)\u001b[0m\n\u001b[0;32m   1764\u001b[0m \u001b[38;5;28;01mif\u001b[39;00m \u001b[38;5;28misinstance\u001b[39m(key, \u001b[38;5;28mtuple\u001b[39m) \u001b[38;5;129;01mand\u001b[39;00m \u001b[38;5;28mlen\u001b[39m(key) \u001b[38;5;241m>\u001b[39m \u001b[38;5;241m1\u001b[39m:\n\u001b[0;32m   1765\u001b[0m     \u001b[38;5;66;03m# if len == 1, then it becomes a SeriesGroupBy and this is actually\u001b[39;00m\n\u001b[0;32m   1766\u001b[0m     \u001b[38;5;66;03m# valid syntax, so don't raise\u001b[39;00m\n\u001b[0;32m   1767\u001b[0m     \u001b[38;5;28;01mraise\u001b[39;00m \u001b[38;5;167;01mValueError\u001b[39;00m(\n\u001b[0;32m   1768\u001b[0m         \u001b[38;5;124m\"\u001b[39m\u001b[38;5;124mCannot subset columns with a tuple with more than one element. \u001b[39m\u001b[38;5;124m\"\u001b[39m\n\u001b[0;32m   1769\u001b[0m         \u001b[38;5;124m\"\u001b[39m\u001b[38;5;124mUse a list instead.\u001b[39m\u001b[38;5;124m\"\u001b[39m\n\u001b[0;32m   1770\u001b[0m     )\n\u001b[1;32m-> 1771\u001b[0m \u001b[38;5;28;01mreturn\u001b[39;00m \u001b[38;5;28msuper\u001b[39m()\u001b[38;5;241m.\u001b[39m\u001b[38;5;21m__getitem__\u001b[39m(key)\n",
      "File \u001b[1;32m~\\anaconda3\\Lib\\site-packages\\pandas\\core\\base.py:244\u001b[0m, in \u001b[0;36mSelectionMixin.__getitem__\u001b[1;34m(self, key)\u001b[0m\n\u001b[0;32m    242\u001b[0m \u001b[38;5;28;01melse\u001b[39;00m:\n\u001b[0;32m    243\u001b[0m     \u001b[38;5;28;01mif\u001b[39;00m key \u001b[38;5;129;01mnot\u001b[39;00m \u001b[38;5;129;01min\u001b[39;00m \u001b[38;5;28mself\u001b[39m\u001b[38;5;241m.\u001b[39mobj:\n\u001b[1;32m--> 244\u001b[0m         \u001b[38;5;28;01mraise\u001b[39;00m \u001b[38;5;167;01mKeyError\u001b[39;00m(\u001b[38;5;124mf\u001b[39m\u001b[38;5;124m\"\u001b[39m\u001b[38;5;124mColumn not found: \u001b[39m\u001b[38;5;132;01m{\u001b[39;00mkey\u001b[38;5;132;01m}\u001b[39;00m\u001b[38;5;124m\"\u001b[39m)\n\u001b[0;32m    245\u001b[0m     ndim \u001b[38;5;241m=\u001b[39m \u001b[38;5;28mself\u001b[39m\u001b[38;5;241m.\u001b[39mobj[key]\u001b[38;5;241m.\u001b[39mndim\n\u001b[0;32m    246\u001b[0m     \u001b[38;5;28;01mreturn\u001b[39;00m \u001b[38;5;28mself\u001b[39m\u001b[38;5;241m.\u001b[39m_gotitem(key, ndim\u001b[38;5;241m=\u001b[39mndim)\n",
      "\u001b[1;31mKeyError\u001b[0m: 'Column not found: False'"
     ]
    }
   ],
   "source": [
    "df = data[data['TDC_CHANNEL'] == 139]\n",
    "print(data)\n",
    "unique_orbits_count = df['ORBIT_CNT'].nunique()\n",
    "\n",
    "\n",
    "print(\"Number of Unique Orbits with at least one measurement from TDC_CHANNEL=139:\", unique_orbits_count)"
   ]
  },
  {
   "cell_type": "markdown",
   "metadata": {},
   "source": [
    "8\\. Create two Series (one for each FPGA) that have the TDC channel as index, and the number of counts for the corresponding TDC channel as values."
   ]
  },
  {
   "cell_type": "code",
   "execution_count": 123,
   "metadata": {},
   "outputs": [
    {
     "name": "stdout",
     "output_type": "stream",
     "text": [
      "TDC_CHANNEL\n",
      "1        736\n",
      "2        951\n",
      "3        915\n",
      "4       1428\n",
      "5        885\n",
      "       ...  \n",
      "129        2\n",
      "130       20\n",
      "137       19\n",
      "138       20\n",
      "139    46483\n",
      "Length: 124, dtype: int64\n"
     ]
    }
   ],
   "source": [
    "data = pd.read_csv('data/data_000637.txt')\n",
    "data = pd.DataFrame(data)\n",
    "N = random.randint(10000, data.shape[0])\n",
    "\n",
    "data = data[0:N]\n",
    "\n",
    "df0 = data[data['FPGA'] == 0]\n",
    "df1 =  data[data['FPGA'] == 1]\n",
    "\n",
    "count0 = df0.groupby('TDC_CHANNEL').size()\n",
    "print(count0)\n",
    "\n",
    "f0= pd.Series(),index = )\n",
    "#series_fpga1 = pd.Series(fpga1_data['count'].values, index=fpga1_data['TDC_channel'])\n",
    "\n",
    "#TDC0 = data0.groupby('TDC_CHANNEL').count()\n",
    "#TDC1 = data0.groupby('TDC_CHANNEL').size()\n",
    "#TDC0\n",
    "#df = pd.Series(, index = data0['TDC_CHANNEL'])"
   ]
  },
  {
   "cell_type": "markdown",
   "metadata": {},
   "source": [
    "9\\. **Optional:** Create two histograms (one for each FPGA) that show the number of counts for each TDC channel."
   ]
  },
  {
   "cell_type": "code",
   "execution_count": 20,
   "metadata": {},
   "outputs": [
    {
     "name": "stdout",
     "output_type": "stream",
     "text": [
      "FPGA1 Counts:\n",
      "TDC_CHANNEL\n",
      "1       139\n",
      "2       170\n",
      "3       173\n",
      "4       240\n",
      "5       177\n",
      "       ... \n",
      "129       1\n",
      "130       5\n",
      "137       4\n",
      "138       4\n",
      "139    8722\n",
      "Name: count, Length: 122, dtype: int64\n",
      "\n",
      "FPGA2 Counts:\n",
      "TDC_CHANNEL\n",
      "1      3207\n",
      "2      3686\n",
      "3      2495\n",
      "4      2990\n",
      "5      1701\n",
      "       ... \n",
      "129       4\n",
      "130       6\n",
      "137       4\n",
      "138       4\n",
      "139    3707\n",
      "Name: count, Length: 132, dtype: int64\n"
     ]
    }
   ],
   "source": [
    "\n",
    "\n",
    "channel_counts = data.groupby(['FPGA', 'TDC_CHANNEL']).size().reset_index(name='count')\n",
    "\n",
    "# Separate the counts for each FPGA\n",
    "fpga1_counts = channel_counts[channel_counts['FPGA'] == 0].set_index('TDC_CHANNEL')['count']\n",
    "fpga2_counts = channel_counts[channel_counts['FPGA'] == 1].set_index('TDC_CHANNEL')['count']\n",
    "\n",
    "# Print or use the resulting Series as needed\n",
    "print(\"FPGA1 Counts:\")\n",
    "print(fpga1_counts)\n",
    "\n",
    "print(\"\\nFPGA2 Counts:\")\n",
    "print(fpga2_counts)\n",
    "\n"
   ]
  },
  {
   "cell_type": "code",
   "execution_count": null,
   "metadata": {},
   "outputs": [],
   "source": []
  }
 ],
 "metadata": {
  "kernelspec": {
   "display_name": "Python 3 (ipykernel)",
   "language": "python",
   "name": "python3"
  },
  "language_info": {
   "codemirror_mode": {
    "name": "ipython",
    "version": 3
   },
   "file_extension": ".py",
   "mimetype": "text/x-python",
   "name": "python",
   "nbconvert_exporter": "python",
   "pygments_lexer": "ipython3",
   "version": "3.11.5"
  }
 },
 "nbformat": 4,
 "nbformat_minor": 2
}
