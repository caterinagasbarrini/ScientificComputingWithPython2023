{
 "cells": [
  {
   "cell_type": "code",
   "execution_count": 1,
   "id": "884fe5ef",
   "metadata": {},
   "outputs": [
    {
     "name": "stdout",
     "output_type": "stream",
     "text": [
      "1\n",
      "2\n",
      "Hello\n",
      "4\n",
      "World\n",
      "Hello\n",
      "7\n",
      "8\n",
      "Hello\n",
      "World\n",
      "11\n",
      "Hello\n",
      "13\n",
      "14\n",
      "HelloWorld\n",
      "16\n",
      "17\n",
      "Hello\n",
      "19\n",
      "World\n",
      "Hello\n",
      "22\n",
      "23\n",
      "Hello\n",
      "World\n",
      "26\n",
      "Hello\n",
      "28\n",
      "29\n",
      "HelloWorld\n",
      "31\n",
      "32\n",
      "Hello\n",
      "34\n",
      "World\n",
      "Hello\n",
      "37\n",
      "38\n",
      "Hello\n",
      "World\n",
      "41\n",
      "Hello\n",
      "43\n",
      "44\n",
      "HelloWorld\n",
      "46\n",
      "47\n",
      "Hello\n",
      "49\n",
      "World\n",
      "Hello\n",
      "52\n",
      "53\n",
      "Hello\n",
      "World\n",
      "56\n",
      "Hello\n",
      "58\n",
      "59\n",
      "HelloWorld\n",
      "61\n",
      "62\n",
      "Hello\n",
      "64\n",
      "World\n",
      "Hello\n",
      "67\n",
      "68\n",
      "Hello\n",
      "World\n",
      "71\n",
      "Hello\n",
      "73\n",
      "74\n",
      "HelloWorld\n",
      "76\n",
      "77\n",
      "Hello\n",
      "79\n",
      "World\n",
      "Hello\n",
      "82\n",
      "83\n",
      "Hello\n",
      "World\n",
      "86\n",
      "Hello\n",
      "88\n",
      "89\n",
      "HelloWorld\n",
      "91\n",
      "92\n",
      "Hello\n",
      "94\n",
      "World\n",
      "Hello\n",
      "97\n",
      "98\n",
      "Hello\n",
      "World\n"
     ]
    }
   ],
   "source": [
    "x = 1\n",
    "for x in range(1,101):\n",
    "    mult3 = x % 3\n",
    "    mult5 = x % 5\n",
    "    if mult5 == 0 and mult3 == 0:\n",
    "        print(\"HelloWorld\")\n",
    "    elif mult3 == 0 :\n",
    "        print(\"Hello\")\n",
    "    elif mult5 == 0 :\n",
    "        print(\"World\")\n",
    "    \n",
    "    else:\n",
    "        print(x)"
   ]
  },
  {
   "cell_type": "code",
   "execution_count": 2,
   "id": "0024ce81",
   "metadata": {},
   "outputs": [
    {
     "name": "stdout",
     "output_type": "stream",
     "text": [
      "write an input: 5\n",
      "write another input: 5\n",
      "5 5\n"
     ]
    }
   ],
   "source": [
    "x = input(\"write an input: \")\n",
    "x1 = input(\"write another input: \")\n",
    "lista = [x,x1]\n",
    "\n",
    "x = lista[1]\n",
    "x1 = lista[0]\n",
    "\n",
    "print(x,x1)\n"
   ]
  },
  {
   "cell_type": "code",
   "execution_count": 4,
   "id": "34642327",
   "metadata": {},
   "outputs": [
    {
     "name": "stdout",
     "output_type": "stream",
     "text": [
      "5.0\n"
     ]
    }
   ],
   "source": [
    "import math\n",
    "\n",
    "u = (3,0)\n",
    "v = (0,4)\n",
    "\n",
    "distance = math.sqrt( pow((u[0] + v[0]), 2) + pow((u[1] + v[1]),2))\n",
    "\n",
    "print(distance)\n",
    "\n"
   ]
  },
  {
   "cell_type": "code",
   "execution_count": 5,
   "id": "5ff3c826",
   "metadata": {},
   "outputs": [
    {
     "name": "stdout",
     "output_type": "stream",
     "text": [
      "first string\n",
      ". 3\n",
      "0 2\n",
      "1 2\n",
      "a 7\n",
      "b 5\n",
      "c 1\n",
      "d 5\n",
      "e 20\n",
      "f 10\n",
      "g 1\n",
      "h 11\n",
      "i 12\n",
      "l 12\n",
      "m 8\n",
      "n 10\n",
      "o 15\n",
      "p 8\n",
      "r 19\n",
      "s 7\n",
      "t 19\n",
      "u 7\n",
      "v 2\n",
      "w 4\n",
      "second string\n",
      "a 1\n",
      "b 1\n",
      "c 1\n",
      "d 1\n",
      "e 3\n",
      "f 1\n",
      "g 1\n",
      "h 2\n",
      "i 1\n",
      "j 1\n",
      "k 1\n",
      "l 1\n",
      "m 1\n",
      "n 1\n",
      "o 4\n",
      "p 1\n",
      "q 1\n",
      "r 2\n",
      "s 1\n",
      "t 2\n",
      "u 2\n",
      "v 1\n",
      "w 1\n",
      "x 1\n",
      "y 1\n",
      "z 1\n"
     ]
    }
   ],
   "source": [
    "\n",
    "s1 = \"Write a program that prints the numbers from 1 to 100. \\\n",
    "But for multiples of three print Hello instead of the number and for the multiples of five print World. \\\n",
    "For numbers which are multiples of both three and five print HelloWorld.\"\n",
    "s2 = \"The quick brown fox jumps over the lazy dog\"\n",
    "\n",
    "s1 = s1.lower()\n",
    "s2 = s2.lower()\n",
    "\n",
    "diz = {}\n",
    "i = 0\n",
    "\n",
    "j = 0\n",
    "diz2 = {}\n",
    "\n",
    "for i in range(0, len(s1)):\n",
    "    if s1[i] == ' ':\n",
    "        continue\n",
    "    \n",
    "    elif  s1[i] not in diz:\n",
    "        diz[s1[i]] = 1\n",
    "        \n",
    "    elif s1[i] in diz:\n",
    "        diz[s1[i]]+=1\n",
    "        \n",
    "\n",
    "for j in range(0, len(s2)):\n",
    "    if s2[j] == ' ':\n",
    "        continue\n",
    "    \n",
    "    elif  s2[j] not in diz2:\n",
    "        diz2[s2[j]] = 1\n",
    "        \n",
    "    elif s2[j] in diz2:\n",
    "        diz2[s2[j]]+=1\n",
    "\n",
    "\n",
    "print(\"first string\")\n",
    "for key in sorted(diz):\n",
    "    print(key, diz[key])\n",
    "      \n",
    "print ( \"second string\")       \n",
    "for key in sorted(diz2):\n",
    "    print(key, diz2[key])\n"
   ]
  },
  {
   "cell_type": "code",
   "execution_count": 6,
   "id": "94f023f4",
   "metadata": {},
   "outputs": [
    {
     "name": "stdout",
     "output_type": "stream",
     "text": [
      "i numeri non ripetuti mai sono:  [58, 74, 96, 64, 10, 24, 19, 33, 86, 99, 18, 63, 47, 88, 55, 54, 8, 79, 81, 57, 37, 1, 9, 42, 95, 90, 98, 39, 16, 82, 92, 41, 30, 70, 85, 94, 5, 72, 87, 75, 53, 89]  e sono  42\n"
     ]
    }
   ],
   "source": [
    "l = [36, 45, 58, 3, 74, 96, 64, 45, 31, 10, 24, 19, 33, 86, 99, 18, 63, 70, 85,\n",
    "85, 63, 47, 56, 42, 70, 84, 88, 55, 20, 54, 8, 56, 51, 79, 81, 57, 37, 91,\n",
    "1, 84, 84, 36, 66, 9, 89, 50, 42, 91, 50, 95, 90, 98, 39, 16, 82, 31, 92, 41,\n",
    "45, 30, 66, 70, 34, 85, 94, 5, 3, 36, 72, 91, 84, 34, 87, 75, 53, 51, 20, 89, 51, 20]\n",
    "\n",
    "\n",
    "i = 0\n",
    "j = 0 \n",
    "be = False\n",
    "ripetuti =[]\n",
    "for i in range(0 , len(l)-1):\n",
    "    if i == len(l)-1:\n",
    "        break\n",
    "    for j in range(i+1, len(l)):\n",
    "        if l[i] == l[j]:\n",
    "            ripetuti.append(l[j])\n",
    "\n",
    "#così ho trovato quelli che si ripetono\n",
    "    \n",
    "i = 0\n",
    "j = 0 \n",
    "while i < len(l):\n",
    "    for j in range(0, len(ripetuti)):\n",
    "        if l[i] == ripetuti[j]:\n",
    "            l.remove(l[i])\n",
    "    i+=1\n",
    "    \n",
    "print(\"i numeri non ripetuti mai sono: \", l, \" e sono \", len(l))\n",
    "        \n",
    "    "
   ]
  },
  {
   "cell_type": "code",
   "execution_count": 7,
   "id": "81f1c9e3",
   "metadata": {},
   "outputs": [
    {
     "name": "stdout",
     "output_type": "stream",
     "text": [
      "write an input: j\n",
      "write another input: 9\n",
      "j9\n"
     ]
    }
   ],
   "source": [
    "x = input(\"write an input: \")\n",
    "x1 = input(\"write another input: \")\n",
    "\n",
    "try:\n",
    "    somma = float(x) + float(x1)\n",
    "except:\n",
    "    somma = x +x1\n",
    "    \n",
    "\n",
    "    \n",
    "print(somma)"
   ]
  },
  {
   "cell_type": "code",
   "execution_count": 2,
   "id": "47d42977",
   "metadata": {},
   "outputs": [
    {
     "name": "stdout",
     "output_type": "stream",
     "text": [
      "[0, 1, 8, 27, 64, 125, 216, 343, 512, 729, 1000]\n",
      "[0, 1, 8, 27, 64, 125, 216, 343, 512, 729, 1000]\n"
     ]
    }
   ],
   "source": [
    "cubi_cicli_for = []\n",
    "for x in range(11):\n",
    "    cubi_cicli_for.append(x**3)\n",
    "print(cubi_cicli_for)\n",
    "\n",
    "cubi_list_comprehension = [x**3 for x in range(11)]\n",
    "print(cubi_list_comprehension)\n"
   ]
  },
  {
   "cell_type": "code",
   "execution_count": 10,
   "id": "2423d072",
   "metadata": {},
   "outputs": [
    {
     "name": "stdout",
     "output_type": "stream",
     "text": [
      "[(0, 0), (0, 1), (0, 2), (0, 3), (1, 0), (1, 1), (1, 2), (1, 3), (2, 0), (2, 1), (2, 2), (2, 3)]\n",
      "[(0, 0), (0, 1), (0, 2), (0, 3), (1, 0), (1, 1), (1, 2), (1, 3), (2, 0), (2, 1), (2, 2), (2, 3)]\n"
     ]
    }
   ],
   "source": [
    "a = []\n",
    "for i in range(3):\n",
    "    for j in range(4):\n",
    "        a.append((i, j))\n",
    "print(a)\n",
    "\n",
    "\n",
    "lista = [(i,j) for i in range(3) for j in range(4)]\n",
    "print(lista)"
   ]
  },
  {
   "cell_type": "code",
   "execution_count": null,
   "id": "eb671b59",
   "metadata": {},
   "outputs": [],
   "source": [
    "import math as m\n",
    "\n",
    "terna = [[a,b,c] for a in range (1, 100) for b in range (a,100) for c in range (b,100) if a**2 + b**2 == c**2 ]\n",
    "terne_non_duplicate = [tuple(triple) for triple in terna]\n",
    "\n",
    "terne_non_duplicate = sorted(terne_non_duplicate)\n",
    "\n",
    "# togliere i multipli\n",
    "\n",
    "i = 0\n",
    "j = 0 \n",
    "while i  < len(terne_non_duplicate) - 1:\n",
    "    \n",
    "    lista1 = list(terne_non_duplicate[i])\n",
    "    j = j+i+1\n",
    "    while j  < len(terne_non_duplicate):            \n",
    "        lista2 = list(terne_non_duplicate[j])\n",
    "\n",
    "        if lista2[0] % lista1[0] == 0 and lista2[1] % lista1[1] == 0  and lista2[2] % lista1[2] == 0 :\n",
    "            multiplo = True\n",
    "                \n",
    "        if multiplo == True:\n",
    "            terne_non_duplicate.remove(tuple(lista2))\n",
    "    i+=1\n",
    "    multiplo = False\n",
    " \n",
    "\n",
    "terne_non_duplicate.sort()\n",
    "print(terne_non_duplicate)"
   ]
  },
  {
   "cell_type": "code",
   "execution_count": null,
   "id": "322c3fbb",
   "metadata": {},
   "outputs": [],
   "source": []
  },
  {
   "cell_type": "code",
   "execution_count": null,
   "id": "209f63e8",
   "metadata": {},
   "outputs": [],
   "source": [
    "\n",
    "i = 0\n",
    "j = 0 \n",
    "l = []\n",
    "while i  < len(terne_non_duplicate) - 1:\n",
    "    lista1 = list(terne_non_duplicate[i])\n",
    "    j = j+i+1\n",
    "    while i  < len(terne_non_duplicate):            \n",
    "        lista2 = list(terne_non_duplicate[j])\n",
    "\n",
    "        if lista2[0] % lista1[0] != 0 and lista2[1] % lista1[1] != 0  and lista2[2] % lista1[2] != 0 :\n",
    "            multiplo = True\n",
    "                \n",
    "        if multiplo == True:\n",
    "            terne_non_duplicate.remove(tuple(lista2))\n",
    "    i+=1\n",
    "    multiplo == True"
   ]
  },
  {
   "cell_type": "code",
   "execution_count": 18,
   "id": "92c2009e",
   "metadata": {},
   "outputs": [
    {
     "name": "stdout",
     "output_type": "stream",
     "text": [
      "5.0\n",
      "1.0\n"
     ]
    }
   ],
   "source": [
    "#Write a program that takes an N-dimensional vector, e.g. a variable-length tuple of numbers,\n",
    "#and normalizes it to one (in such a way that the squared sum of all the entries is equal to 1).\n",
    "\n",
    "import math as m\n",
    "\n",
    "vettore = (0,3,4)\n",
    "\n",
    "somma = 0 \n",
    "for i in range(len(vettore)):\n",
    "    somma += pow(vettore[i],2)\n",
    "    \n",
    "\n",
    "norma = m.sqrt(somma)\n",
    "\n",
    "somma1 = 0 \n",
    "for i in range(len(vettore)):\n",
    "    somma1 += pow(vettore[i]/norma,2)\n",
    "\n",
    "vettore_normalizzato = m.sqrt(somma1)\n",
    "\n",
    "print(norma)\n",
    "print(vettore_normalizzato)\n",
    "    \n",
    "\n"
   ]
  },
  {
   "cell_type": "code",
   "execution_count": 23,
   "id": "8746be9b",
   "metadata": {},
   "outputs": [
    {
     "name": "stdout",
     "output_type": "stream",
     "text": [
      "[0, 1, 1, 2, 3, 5, 8, 13, 21, 34, 55, 89, 144, 233, 377, 610, 987, 1597, 2584, 4181]\n"
     ]
    }
   ],
   "source": [
    "fibonacci = [0, 1]\n",
    "\n",
    "i = 2\n",
    "while i < 20:\n",
    "    next_num = fibonacci[i - 1] + fibonacci[i - 2]\n",
    "    fibonacci.append(next_num)\n",
    "    i += 1\n",
    "\n",
    "print(fibonacci)"
   ]
  },
  {
   "cell_type": "code",
   "execution_count": 75,
   "id": "431b1aad",
   "metadata": {},
   "outputs": [
    {
     "name": "stdout",
     "output_type": "stream",
     "text": [
      "(3, 4, 5)\n",
      "(5, 12, 13)\n",
      "(6, 8, 10)\n",
      "(7, 24, 25)\n",
      "(8, 15, 17)\n",
      "(9, 12, 15)\n",
      "(9, 40, 41)\n",
      "(10, 24, 26)\n",
      "(11, 60, 61)\n",
      "(12, 16, 20)\n",
      "(12, 35, 37)\n",
      "(13, 84, 85)\n",
      "(14, 48, 50)\n",
      "(15, 20, 25)\n",
      "(15, 36, 39)\n",
      "(16, 30, 34)\n",
      "(16, 63, 65)\n",
      "(18, 24, 30)\n",
      "(18, 80, 82)\n",
      "(20, 21, 29)\n",
      "(20, 48, 52)\n",
      "(21, 28, 35)\n",
      "(21, 72, 75)\n",
      "(24, 32, 40)\n",
      "(24, 45, 51)\n",
      "(24, 70, 74)\n",
      "(25, 60, 65)\n",
      "(27, 36, 45)\n",
      "(28, 45, 53)\n",
      "(30, 40, 50)\n",
      "(30, 72, 78)\n",
      "(32, 60, 68)\n",
      "(33, 44, 55)\n",
      "(33, 56, 65)\n",
      "(35, 84, 91)\n",
      "(36, 48, 60)\n",
      "(36, 77, 85)\n",
      "(39, 52, 65)\n",
      "(39, 80, 89)\n",
      "(40, 42, 58)\n",
      "(40, 75, 85)\n",
      "(42, 56, 70)\n",
      "(45, 60, 75)\n",
      "(48, 55, 73)\n",
      "(48, 64, 80)\n",
      "(51, 68, 85)\n",
      "(54, 72, 90)\n",
      "(57, 76, 95)\n",
      "(60, 63, 87)\n",
      "(65, 72, 97)\n"
     ]
    }
   ],
   "source": [
    "unique_pythagorean_triples = [\n",
    "    tuple(sorted([a, b, c]))\n",
    "    for a in range(1, 100)\n",
    "    for b in range(a, 100)\n",
    "    for c in range(b, 100)\n",
    "    if a**2 + b**2 == c**2 and a != b and b != c and c != a\n",
    "    if all(a % x != 0 and b % y != 0 and c % z != 0 for x, y, z in unique_pythagorean_triples)\n",
    "]\n",
    "\n",
    "sorted_unique_pythagorean_triples = sorted(unique_pythagorean_triples)\n",
    "\n",
    "for triple in sorted_unique_pythagorean_triples:\n",
    "    print(triple)\n"
   ]
  },
  {
   "cell_type": "code",
   "execution_count": null,
   "id": "9361f6f5",
   "metadata": {},
   "outputs": [],
   "source": []
  }
 ],
 "metadata": {
  "kernelspec": {
   "display_name": "Python 3 (ipykernel)",
   "language": "python",
   "name": "python3"
  },
  "language_info": {
   "codemirror_mode": {
    "name": "ipython",
    "version": 3
   },
   "file_extension": ".py",
   "mimetype": "text/x-python",
   "name": "python",
   "nbconvert_exporter": "python",
   "pygments_lexer": "ipython3",
   "version": "3.11.5"
  }
 },
 "nbformat": 4,
 "nbformat_minor": 5
}
