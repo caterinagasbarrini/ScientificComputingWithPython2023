{
 "cells": [
  {
   "cell_type": "code",
   "execution_count": 11,
   "id": "51683412",
   "metadata": {},
   "outputs": [
    {
     "name": "stdout",
     "output_type": "stream",
     "text": [
      "[1, 2, 3, 0, 1, 2, 3, 4]\n",
      "[1, 2, 3]\n"
     ]
    }
   ],
   "source": [
    "import copy\n",
    "x = 5\n",
    "\n",
    "def f(alist):\n",
    "    \n",
    "    x = 5\n",
    "    l= copy.deepcopy(alist)\n",
    "    for i in range(x):\n",
    "        l.append(i)\n",
    "    return l\n",
    "\n",
    "alist = [1, 2, 3]\n",
    "ans = f(alist)\n",
    "print(ans)\n",
    "print(alist) # alist has been changed"
   ]
  },
  {
   "cell_type": "code",
   "execution_count": 15,
   "id": "00a92c5c",
   "metadata": {},
   "outputs": [
    {
     "name": "stdout",
     "output_type": "stream",
     "text": [
      "[1, 9, 25, 49, 81]\n"
     ]
    }
   ],
   "source": [
    "ans = [pow(x,2) for x in range(10)  if x %2 ==1]\n",
    "print(ans)"
   ]
  },
  {
   "cell_type": "code",
   "execution_count": 68,
   "id": "8ec81889",
   "metadata": {},
   "outputs": [
    {
     "name": "stdout",
     "output_type": "stream",
     "text": [
      "inserisci un numero: 8\n",
      "['cia', 'luna', 'pp', 's', 'bu']\n"
     ]
    }
   ],
   "source": [
    "n = int(input(\"inserisci un numero: \"))\n",
    "\n",
    "def parole_piccole(parola):\n",
    "    if len(parola) < n:           \n",
    "        return parola\n",
    "\n",
    "lista = [\"cia\",\"luna\", \"p\",\"s\", \"buiociao\"]\n",
    "\n",
    "ans = list(filter(parole_piccole, lista))\n",
    "print(ans)"
   ]
  },
  {
   "cell_type": "code",
   "execution_count": 1,
   "id": "292e5d08",
   "metadata": {},
   "outputs": [
    {
     "name": "stdout",
     "output_type": "stream",
     "text": [
      "[6, 4, 9, 3]\n"
     ]
    }
   ],
   "source": [
    "lang = {\"Python\" : 3, \"Java\" : '', \"Cplusplus\" : 'test', \"Php\" : 0.7}\n",
    "\n",
    "def conta_lunghezza(parola):\n",
    "    return len(parola)\n",
    "\n",
    "lunghezza = list(map(conta_lunghezza, lang.keys()))\n",
    "\n",
    "print(lunghezza)"
   ]
  },
  {
   "cell_type": "code",
   "execution_count": 7,
   "id": "9f59a180",
   "metadata": {},
   "outputs": [
    {
     "name": "stdout",
     "output_type": "stream",
     "text": [
      "[('Cplusplus', 81), ('Java', 32), ('Php', 45), ('Python', 97)]\n"
     ]
    }
   ],
   "source": [
    "language_scores = [('Python', 97), ('Cplusplus', 81), ('Php', 45), ('Java', 32)]\n",
    "language_scores.sort(key = lambda x : x[0])\n",
    "\n",
    "print(language_scores)\n"
   ]
  },
  {
   "cell_type": "code",
   "execution_count": 10,
   "id": "3ad0a3c6",
   "metadata": {},
   "outputs": [
    {
     "name": "stdout",
     "output_type": "stream",
     "text": [
      "729\n"
     ]
    }
   ],
   "source": [
    "numero = 3\n",
    "\n",
    "def f1(x):\n",
    "    return pow(x,2)\n",
    "\n",
    "def f2(x):\n",
    "    return pow(x,3)\n",
    "\n",
    "def f3(x):\n",
    "    return f1(f2(x))\n",
    "\n",
    "print(f3(numero))\n"
   ]
  },
  {
   "cell_type": "code",
   "execution_count": 31,
   "id": "becff156",
   "metadata": {},
   "outputs": [
    {
     "name": "stdout",
     "output_type": "stream",
     "text": [
      "Hello World\n"
     ]
    }
   ],
   "source": [
    "def hello(func):\n",
    "    def wrapper(x):\n",
    "        print(\"Hello World\")\n",
    "        func(x)\n",
    "    return wrapper\n",
    "\n",
    "\n",
    "@hello\n",
    "def square(x):\n",
    "    return x*x\n",
    "\n",
    "square(3)\n",
    "\n"
   ]
  },
  {
   "cell_type": "code",
   "execution_count": 4,
   "id": "8c46caff",
   "metadata": {},
   "outputs": [
    {
     "name": "stdout",
     "output_type": "stream",
     "text": [
      "0\n",
      "1\n",
      "1\n",
      "2\n",
      "3\n",
      "5\n",
      "8\n",
      "13\n",
      "21\n",
      "34\n",
      "55\n",
      "89\n",
      "144\n",
      "233\n",
      "377\n",
      "610\n",
      "987\n",
      "1597\n",
      "2584\n",
      "4181\n"
     ]
    }
   ],
   "source": [
    "def fibonacci(x):    \n",
    "    if x > 1:\n",
    "        return fibonacci(x - 1) + fibonacci(x - 2)\n",
    "    return x\n",
    "        \n",
    "\n",
    "for i in range(0,20):\n",
    "    print(fibonacci(i))"
   ]
  },
  {
   "cell_type": "code",
   "execution_count": null,
   "id": "f89e686b",
   "metadata": {},
   "outputs": [],
   "source": [
    "#9\n",
    "\n"
   ]
  },
  {
   "cell_type": "code",
   "execution_count": 36,
   "id": "da536313",
   "metadata": {},
   "outputs": [
    {
     "name": "stdout",
     "output_type": "stream",
     "text": [
      "(1, 2, 8)\n",
      "(1, 8, 8)\n",
      "17\n",
      "(1, 8, 8)\n"
     ]
    }
   ],
   "source": [
    "## Ho presupposto che l'utente scriva i lati in ordine \n",
    "# per esempio scrivere (3,4,5) singifica dire che il primo lato vale 3, il secondo 4 e il terzo 5\n",
    "\n",
    "\n",
    "class polygon:\n",
    "    def __init__(self, lati):\n",
    "        self.x = lati\n",
    "        \n",
    "        if len(self.x)<3 :\n",
    "            raise ValueError(\"I lati devono essere minimo 3.  Try again...\")\n",
    "        \n",
    "    def get_length(self):\n",
    "        return self.x\n",
    "    \n",
    "    def set_length(self,lato, valore):\n",
    "        temp = list (self.x)\n",
    "        temp[lato-1] = valore\n",
    "        self.x = tuple(temp)\n",
    "        return self.x\n",
    "            \n",
    "    def perimetro(self):\n",
    "        somma = 0\n",
    "        for i in range(0, len(self.x)):\n",
    "            somma = somma + self.x[i]\n",
    "        return somma\n",
    "    \n",
    "    def getOrderedSides(self, increasing = True):\n",
    "        temp = list(self.x)\n",
    "        temp.sort(reverse = increasing)\n",
    "        self.x = tuple(temp)\n",
    "        return self.x\n",
    "        #true = decrescente\n",
    "        #false = crescente\n",
    "\n",
    "lati = (1,2,8)\n",
    "triangolo = polygon(lati)\n",
    "\n",
    "print(triangolo.get_length())\n",
    "\n",
    "print(triangolo.set_length(2,8))\n",
    "        \n",
    "print(triangolo.perimetro())\n",
    "\n",
    "print(triangolo.getOrderedSides(False))\n",
    "\n"
   ]
  },
  {
   "cell_type": "code",
   "execution_count": 43,
   "id": "14557cbc",
   "metadata": {},
   "outputs": [
    {
     "name": "stdout",
     "output_type": "stream",
     "text": [
      "6\n"
     ]
    }
   ],
   "source": [
    "class rectangle(polygon):\n",
    "    \n",
    "    def __init__(self, lati):\n",
    "        self.x = lati\n",
    "        if len(self.x) != 4 and self.x[0] != self.x [2]:\n",
    "            raise ValueError(\"non è un rettangolo.  Try again...\")\n",
    "        \n",
    "    def area(self):\n",
    "        area = self.x[0]*self.x[1]\n",
    "        return area\n",
    "    \n",
    "\n",
    "\n",
    "lati = (2,3,2,3)   \n",
    "rettangolo = rectangle(lati)\n",
    "print(rettangolo.area())"
   ]
  },
  {
   "cell_type": "code",
   "execution_count": null,
   "id": "341a6854",
   "metadata": {},
   "outputs": [],
   "source": [
    "import math as m\n",
    "\n",
    "terna = [[a,b,c] for a in range (1, 100) for b in range (a,100) for c in range (b,100) if a**2 + b**2 == c**2 ]\n",
    "terne_non_duplicate = [tuple(triple) for triple in terna]\n",
    "\n",
    "terne_non_duplicate = sorted(terne_non_duplicate)\n",
    "\n",
    "# togliere i multipli\n",
    "\n",
    "i = 0\n",
    "j = 0 \n",
    "l = []\n",
    "while i  < len(terne_non_duplicate) - 1:\n",
    "    lista1 = list(terne_non_duplicate[i])\n",
    "    j = j+i+1\n",
    "    while j  < len(terne_non_duplicate):            \n",
    "        lista2 = list(terne_non_duplicate[j])\n",
    "\n",
    "        if lista2[0] % lista1[0] == 0 and lista2[1] % lista1[1] == 0  and lista2[2] % lista1[2] == 0 :\n",
    "            multiplo = True\n",
    "                \n",
    "        if multiplo == True:\n",
    "            terne_non_duplicate.remove(tuple(lista2))\n",
    "    i+=1\n",
    "    multiplo = False\n",
    " \n",
    "\n",
    "terne_non_duplicate.sort()\n",
    "print(terne_non_duplicate)"
   ]
  },
  {
   "cell_type": "code",
   "execution_count": null,
   "id": "516dfe26",
   "metadata": {},
   "outputs": [],
   "source": []
  },
  {
   "cell_type": "code",
   "execution_count": null,
   "id": "ca475468",
   "metadata": {},
   "outputs": [],
   "source": []
  }
 ],
 "metadata": {
  "kernelspec": {
   "display_name": "Python 3 (ipykernel)",
   "language": "python",
   "name": "python3"
  },
  "language_info": {
   "codemirror_mode": {
    "name": "ipython",
    "version": 3
   },
   "file_extension": ".py",
   "mimetype": "text/x-python",
   "name": "python",
   "nbconvert_exporter": "python",
   "pygments_lexer": "ipython3",
   "version": "3.11.5"
  }
 },
 "nbformat": 4,
 "nbformat_minor": 5
}
